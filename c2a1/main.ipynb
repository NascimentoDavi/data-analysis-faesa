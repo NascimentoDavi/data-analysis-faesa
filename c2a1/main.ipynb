{
 "cells": [
  {
   "cell_type": "markdown",
   "id": "9350ae45-66c2-480f-9754-ecd16952a4fd",
   "metadata": {},
   "source": [
    "# Reticulate"
   ]
  },
  {
   "cell_type": "markdown",
   "id": "ede5ef6f-1315-4f65-91e7-032179bbbcb8",
   "metadata": {},
   "source": [
    "### Pacote que permite a integração do R e do Python no mesmo ambiente, oference uma interface entre os dois."
   ]
  },
  {
   "cell_type": "code",
   "execution_count": 2,
   "id": "95ebe22c-e03a-4138-86ca-67794355bd75",
   "metadata": {},
   "outputs": [
    {
     "name": "stderr",
     "output_type": "stream",
     "text": [
      "Installing package into ‘/home/davirnas/R/x86_64-pc-linux-gnu-library/4.5’\n",
      "(as ‘lib’ is unspecified)\n",
      "\n"
     ]
    }
   ],
   "source": [
    "# Instala o Reticulate em uma localização específica\n",
    "install.packages(\"reticulate\")\n",
    "\n",
    "# Carrega o pacote para o ambiente, considerando que ele já foi instalado acima\n",
    "library(reticulate)"
   ]
  },
  {
   "cell_type": "code",
   "execution_count": 3,
   "id": "f6d60126-4f2b-4463-ab72-0f03a4ff82b2",
   "metadata": {},
   "outputs": [
    {
     "data": {
      "text/plain": [
       "python:         /home/davirnas/.cache/R/reticulate/uv/cache/archive-v0/cP4II99lTMYuhZg4XQTT5/bin/python3\n",
       "libpython:      /home/davirnas/.cache/R/reticulate/uv/python/cpython-3.11.12-linux-x86_64-gnu/lib/libpython3.11.so\n",
       "pythonhome:     /home/davirnas/.cache/R/reticulate/uv/cache/archive-v0/cP4II99lTMYuhZg4XQTT5:/home/davirnas/.cache/R/reticulate/uv/cache/archive-v0/cP4II99lTMYuhZg4XQTT5\n",
       "virtualenv:     /home/davirnas/.cache/R/reticulate/uv/cache/archive-v0/cP4II99lTMYuhZg4XQTT5/bin/activate_this.py\n",
       "version:        3.11.12 (main, Apr  9 2025, 04:04:00) [Clang 20.1.0 ]\n",
       "numpy:          /home/davirnas/.cache/R/reticulate/uv/cache/archive-v0/cP4II99lTMYuhZg4XQTT5/lib/python3.11/site-packages/numpy\n",
       "numpy_version:  2.2.5\n",
       "\n",
       "NOTE: Python version was forced by py_require()"
      ]
     },
     "metadata": {},
     "output_type": "display_data"
    }
   ],
   "source": [
    "# Exibe informações sobre a configuração atual do Python no ambiente R\n",
    "py_config()"
   ]
  },
  {
   "cell_type": "code",
   "execution_count": 4,
   "id": "79df984d-3474-45eb-960f-8e2a7c2e3ad7",
   "metadata": {},
   "outputs": [],
   "source": [
    "# garante que o pacote pandas esteja disponível no ambiente Python que está sendo utilizado pelo reticulate\n",
    "py_require(\"pandas\")"
   ]
  },
  {
   "cell_type": "code",
   "execution_count": 5,
   "id": "9b548fb7-6645-44f1-a58a-a4350953dcd7",
   "metadata": {},
   "outputs": [],
   "source": [
    "pd <- import(\"pandas\")"
   ]
  },
  {
   "cell_type": "code",
   "execution_count": 6,
   "id": "6220c74b-78c0-4174-b4e2-eb3283b4b866",
   "metadata": {},
   "outputs": [],
   "source": [
    "df_original <- pd$read_csv(\"Placement_Data_Full_Class.csv\")"
   ]
  },
  {
   "cell_type": "code",
   "execution_count": 7,
   "id": "87448eaa-d620-4910-9ad9-e4d98100347d",
   "metadata": {},
   "outputs": [],
   "source": [
    "# Criar Cópia\n",
    "df_no_salary <- df_original"
   ]
  },
  {
   "cell_type": "code",
   "execution_count": 8,
   "id": "f29e64b6-60a3-4886-8c26-6a6de8a8e7c9",
   "metadata": {},
   "outputs": [
    {
     "name": "stdout",
     "output_type": "stream",
     "text": [
      "[1] \"A coluna salary existe.\"\n",
      "[1] \"A coluna salary foi removida.\"\n"
     ]
    }
   ],
   "source": [
    "# Remoção da ColunaSalary no dataframe\n",
    "# 1- Verificar se coluna existe no dataframe\n",
    "\n",
    "# Definindo o nome da coluna em uma variável\n",
    "coluna <- \"salary\"\n",
    "\n",
    "# Verificar se a coluna existe no DataFrame\n",
    "if (coluna %in% colnames(df_no_salary)) {\n",
    "    # Usando paste para concatenar e imprimir a mensagem\n",
    "    print(paste(\"A coluna\", coluna, \"existe.\"))\n",
    "    \n",
    "    # Remover a coluna do DataFrame\n",
    "    df_no_salary <- df_no_salary[, !colnames(df_no_salary) %in% coluna]\n",
    "    print(paste(\"A coluna\", coluna, \"foi removida.\"))\n",
    "} else {\n",
    "    # Usando paste para concatenar e imprimir a mensagem\n",
    "    print(paste(\"A coluna\", coluna, \"não existe.\"))\n",
    "}"
   ]
  },
  {
   "cell_type": "markdown",
   "id": "e6c10422-33d8-4e80-b0c4-037a4046725f",
   "metadata": {},
   "source": [
    "### Análise Exploratória de Dados (EDA)"
   ]
  },
  {
   "cell_type": "markdown",
   "id": "379c9018-d959-403d-8662-ee542a006c47",
   "metadata": {},
   "source": [
    "#### Converter Dataframe de Python para R"
   ]
  },
  {
   "cell_type": "code",
   "execution_count": 9,
   "id": "8d1c8828-ce49-4849-b9a3-ec5c13d0fcc9",
   "metadata": {},
   "outputs": [],
   "source": [
    "df_original_r <- py_to_r(df_original)"
   ]
  },
  {
   "cell_type": "markdown",
   "id": "060bbee4-3782-477f-9905-d997c8b1a514",
   "metadata": {},
   "source": [
    "#### Mostra as 6 primeiras linhas (Primeiras Linhas)"
   ]
  },
  {
   "cell_type": "code",
   "execution_count": 10,
   "id": "bd26429b-9fea-42db-86fa-3b3e8a8f265a",
   "metadata": {},
   "outputs": [
    {
     "data": {
      "text/html": [
       "<table class=\"dataframe\">\n",
       "<caption>A data.frame: 6 × 15</caption>\n",
       "<thead>\n",
       "\t<tr><th></th><th scope=col>sl_no</th><th scope=col>gender</th><th scope=col>ssc_p</th><th scope=col>ssc_b</th><th scope=col>hsc_p</th><th scope=col>hsc_b</th><th scope=col>hsc_s</th><th scope=col>degree_p</th><th scope=col>degree_t</th><th scope=col>workex</th><th scope=col>etest_p</th><th scope=col>specialisation</th><th scope=col>mba_p</th><th scope=col>status</th><th scope=col>salary</th></tr>\n",
       "\t<tr><th></th><th scope=col>&lt;dbl&gt;</th><th scope=col>&lt;chr&gt;</th><th scope=col>&lt;dbl&gt;</th><th scope=col>&lt;chr&gt;</th><th scope=col>&lt;dbl&gt;</th><th scope=col>&lt;chr&gt;</th><th scope=col>&lt;chr&gt;</th><th scope=col>&lt;dbl&gt;</th><th scope=col>&lt;chr&gt;</th><th scope=col>&lt;chr&gt;</th><th scope=col>&lt;dbl&gt;</th><th scope=col>&lt;chr&gt;</th><th scope=col>&lt;dbl&gt;</th><th scope=col>&lt;chr&gt;</th><th scope=col>&lt;dbl&gt;</th></tr>\n",
       "</thead>\n",
       "<tbody>\n",
       "\t<tr><th scope=row>1</th><td>1</td><td>M</td><td>67.00</td><td>Others </td><td>91.00</td><td>Others </td><td>Commerce</td><td>58.00</td><td>Sci&amp;Tech </td><td>No </td><td>55.0</td><td>Mkt&amp;HR </td><td>58.80</td><td><span style=white-space:pre-wrap>Placed    </span></td><td>270000</td></tr>\n",
       "\t<tr><th scope=row>2</th><td>2</td><td>M</td><td>79.33</td><td>Central</td><td>78.33</td><td>Others </td><td>Science </td><td>77.48</td><td>Sci&amp;Tech </td><td>Yes</td><td>86.5</td><td>Mkt&amp;Fin</td><td>66.28</td><td><span style=white-space:pre-wrap>Placed    </span></td><td>200000</td></tr>\n",
       "\t<tr><th scope=row>3</th><td>3</td><td>M</td><td>65.00</td><td>Central</td><td>68.00</td><td>Central</td><td><span style=white-space:pre-wrap>Arts    </span></td><td>64.00</td><td>Comm&amp;Mgmt</td><td>No </td><td>75.0</td><td>Mkt&amp;Fin</td><td>57.80</td><td><span style=white-space:pre-wrap>Placed    </span></td><td>250000</td></tr>\n",
       "\t<tr><th scope=row>4</th><td>4</td><td>M</td><td>56.00</td><td>Central</td><td>52.00</td><td>Central</td><td>Science </td><td>52.00</td><td>Sci&amp;Tech </td><td>No </td><td>66.0</td><td>Mkt&amp;HR </td><td>59.43</td><td>Not Placed</td><td><span style=white-space:pre-wrap>   NaN</span></td></tr>\n",
       "\t<tr><th scope=row>5</th><td>5</td><td>M</td><td>85.80</td><td>Central</td><td>73.60</td><td>Central</td><td>Commerce</td><td>73.30</td><td>Comm&amp;Mgmt</td><td>No </td><td>96.8</td><td>Mkt&amp;Fin</td><td>55.50</td><td><span style=white-space:pre-wrap>Placed    </span></td><td>425000</td></tr>\n",
       "\t<tr><th scope=row>6</th><td>6</td><td>M</td><td>55.00</td><td>Others </td><td>49.80</td><td>Others </td><td>Science </td><td>67.25</td><td>Sci&amp;Tech </td><td>Yes</td><td>55.0</td><td>Mkt&amp;Fin</td><td>51.58</td><td>Not Placed</td><td><span style=white-space:pre-wrap>   NaN</span></td></tr>\n",
       "</tbody>\n",
       "</table>\n"
      ],
      "text/latex": [
       "A data.frame: 6 × 15\n",
       "\\begin{tabular}{r|lllllllllllllll}\n",
       "  & sl\\_no & gender & ssc\\_p & ssc\\_b & hsc\\_p & hsc\\_b & hsc\\_s & degree\\_p & degree\\_t & workex & etest\\_p & specialisation & mba\\_p & status & salary\\\\\n",
       "  & <dbl> & <chr> & <dbl> & <chr> & <dbl> & <chr> & <chr> & <dbl> & <chr> & <chr> & <dbl> & <chr> & <dbl> & <chr> & <dbl>\\\\\n",
       "\\hline\n",
       "\t1 & 1 & M & 67.00 & Others  & 91.00 & Others  & Commerce & 58.00 & Sci\\&Tech  & No  & 55.0 & Mkt\\&HR  & 58.80 & Placed     & 270000\\\\\n",
       "\t2 & 2 & M & 79.33 & Central & 78.33 & Others  & Science  & 77.48 & Sci\\&Tech  & Yes & 86.5 & Mkt\\&Fin & 66.28 & Placed     & 200000\\\\\n",
       "\t3 & 3 & M & 65.00 & Central & 68.00 & Central & Arts     & 64.00 & Comm\\&Mgmt & No  & 75.0 & Mkt\\&Fin & 57.80 & Placed     & 250000\\\\\n",
       "\t4 & 4 & M & 56.00 & Central & 52.00 & Central & Science  & 52.00 & Sci\\&Tech  & No  & 66.0 & Mkt\\&HR  & 59.43 & Not Placed &    NaN\\\\\n",
       "\t5 & 5 & M & 85.80 & Central & 73.60 & Central & Commerce & 73.30 & Comm\\&Mgmt & No  & 96.8 & Mkt\\&Fin & 55.50 & Placed     & 425000\\\\\n",
       "\t6 & 6 & M & 55.00 & Others  & 49.80 & Others  & Science  & 67.25 & Sci\\&Tech  & Yes & 55.0 & Mkt\\&Fin & 51.58 & Not Placed &    NaN\\\\\n",
       "\\end{tabular}\n"
      ],
      "text/markdown": [
       "\n",
       "A data.frame: 6 × 15\n",
       "\n",
       "| <!--/--> | sl_no &lt;dbl&gt; | gender &lt;chr&gt; | ssc_p &lt;dbl&gt; | ssc_b &lt;chr&gt; | hsc_p &lt;dbl&gt; | hsc_b &lt;chr&gt; | hsc_s &lt;chr&gt; | degree_p &lt;dbl&gt; | degree_t &lt;chr&gt; | workex &lt;chr&gt; | etest_p &lt;dbl&gt; | specialisation &lt;chr&gt; | mba_p &lt;dbl&gt; | status &lt;chr&gt; | salary &lt;dbl&gt; |\n",
       "|---|---|---|---|---|---|---|---|---|---|---|---|---|---|---|---|\n",
       "| 1 | 1 | M | 67.00 | Others  | 91.00 | Others  | Commerce | 58.00 | Sci&amp;Tech  | No  | 55.0 | Mkt&amp;HR  | 58.80 | Placed     | 270000 |\n",
       "| 2 | 2 | M | 79.33 | Central | 78.33 | Others  | Science  | 77.48 | Sci&amp;Tech  | Yes | 86.5 | Mkt&amp;Fin | 66.28 | Placed     | 200000 |\n",
       "| 3 | 3 | M | 65.00 | Central | 68.00 | Central | Arts     | 64.00 | Comm&amp;Mgmt | No  | 75.0 | Mkt&amp;Fin | 57.80 | Placed     | 250000 |\n",
       "| 4 | 4 | M | 56.00 | Central | 52.00 | Central | Science  | 52.00 | Sci&amp;Tech  | No  | 66.0 | Mkt&amp;HR  | 59.43 | Not Placed |    NaN |\n",
       "| 5 | 5 | M | 85.80 | Central | 73.60 | Central | Commerce | 73.30 | Comm&amp;Mgmt | No  | 96.8 | Mkt&amp;Fin | 55.50 | Placed     | 425000 |\n",
       "| 6 | 6 | M | 55.00 | Others  | 49.80 | Others  | Science  | 67.25 | Sci&amp;Tech  | Yes | 55.0 | Mkt&amp;Fin | 51.58 | Not Placed |    NaN |\n",
       "\n"
      ],
      "text/plain": [
       "  sl_no gender ssc_p ssc_b   hsc_p hsc_b   hsc_s    degree_p degree_t  workex\n",
       "1 1     M      67.00 Others  91.00 Others  Commerce 58.00    Sci&Tech  No    \n",
       "2 2     M      79.33 Central 78.33 Others  Science  77.48    Sci&Tech  Yes   \n",
       "3 3     M      65.00 Central 68.00 Central Arts     64.00    Comm&Mgmt No    \n",
       "4 4     M      56.00 Central 52.00 Central Science  52.00    Sci&Tech  No    \n",
       "5 5     M      85.80 Central 73.60 Central Commerce 73.30    Comm&Mgmt No    \n",
       "6 6     M      55.00 Others  49.80 Others  Science  67.25    Sci&Tech  Yes   \n",
       "  etest_p specialisation mba_p status     salary\n",
       "1 55.0    Mkt&HR         58.80 Placed     270000\n",
       "2 86.5    Mkt&Fin        66.28 Placed     200000\n",
       "3 75.0    Mkt&Fin        57.80 Placed     250000\n",
       "4 66.0    Mkt&HR         59.43 Not Placed    NaN\n",
       "5 96.8    Mkt&Fin        55.50 Placed     425000\n",
       "6 55.0    Mkt&Fin        51.58 Not Placed    NaN"
      ]
     },
     "metadata": {},
     "output_type": "display_data"
    }
   ],
   "source": [
    "head(df_original_r)"
   ]
  },
  {
   "cell_type": "markdown",
   "id": "3165328f-5dab-4bab-83d3-ef64c81cd94b",
   "metadata": {},
   "source": [
    "#### Ver Estrtutura do Dataframe | Mostra os tipos de variáveis, nomes das colunas e alguns valores iniciais.\n"
   ]
  },
  {
   "cell_type": "code",
   "execution_count": 11,
   "id": "b8891268-c0d6-4ac6-b144-22223b8f8ea6",
   "metadata": {
    "jp-MarkdownHeadingCollapsed": true
   },
   "outputs": [
    {
     "name": "stdout",
     "output_type": "stream",
     "text": [
      "'data.frame':\t215 obs. of  15 variables:\n",
      " $ sl_no         : num  1 2 3 4 5 6 7 8 9 10 ...\n",
      " $ gender        : chr  \"M\" \"M\" \"M\" \"M\" ...\n",
      " $ ssc_p         : num  67 79.3 65 56 85.8 ...\n",
      " $ ssc_b         : chr  \"Others\" \"Central\" \"Central\" \"Central\" ...\n",
      " $ hsc_p         : num  91 78.3 68 52 73.6 ...\n",
      " $ hsc_b         : chr  \"Others\" \"Others\" \"Central\" \"Central\" ...\n",
      " $ hsc_s         : chr  \"Commerce\" \"Science\" \"Arts\" \"Science\" ...\n",
      " $ degree_p      : num  58 77.5 64 52 73.3 ...\n",
      " $ degree_t      : chr  \"Sci&Tech\" \"Sci&Tech\" \"Comm&Mgmt\" \"Sci&Tech\" ...\n",
      " $ workex        : chr  \"No\" \"Yes\" \"No\" \"No\" ...\n",
      " $ etest_p       : num  55 86.5 75 66 96.8 ...\n",
      " $ specialisation: chr  \"Mkt&HR\" \"Mkt&Fin\" \"Mkt&Fin\" \"Mkt&HR\" ...\n",
      " $ mba_p         : num  58.8 66.3 57.8 59.4 55.5 ...\n",
      " $ status        : chr  \"Placed\" \"Placed\" \"Placed\" \"Not Placed\" ...\n",
      " $ salary        : num  270000 200000 250000 NaN 425000 NaN NaN 252000 231000 NaN ...\n",
      " - attr(*, \"pandas.index\")=RangeIndex(start=0, stop=215, step=1)\n"
     ]
    }
   ],
   "source": [
    "str(df_original_r)"
   ]
  },
  {
   "cell_type": "markdown",
   "id": "38c268aa-0cc4-4cba-bdee-a3e3c9d21743",
   "metadata": {},
   "source": [
    "#### Sumário Estatístico"
   ]
  },
  {
   "cell_type": "code",
   "execution_count": 12,
   "id": "fbd6df85-675e-42de-b195-40f4c2967d69",
   "metadata": {},
   "outputs": [
    {
     "data": {
      "text/plain": [
       "     sl_no          gender              ssc_p          ssc_b          \n",
       " Min.   :  1.0   Length:215         Min.   :40.89   Length:215        \n",
       " 1st Qu.: 54.5   Class :character   1st Qu.:60.60   Class :character  \n",
       " Median :108.0   Mode  :character   Median :67.00   Mode  :character  \n",
       " Mean   :108.0                      Mean   :67.30                     \n",
       " 3rd Qu.:161.5                      3rd Qu.:75.70                     \n",
       " Max.   :215.0                      Max.   :89.40                     \n",
       "                                                                      \n",
       "     hsc_p          hsc_b              hsc_s              degree_p    \n",
       " Min.   :37.00   Length:215         Length:215         Min.   :50.00  \n",
       " 1st Qu.:60.90   Class :character   Class :character   1st Qu.:61.00  \n",
       " Median :65.00   Mode  :character   Mode  :character   Median :66.00  \n",
       " Mean   :66.33                                         Mean   :66.37  \n",
       " 3rd Qu.:73.00                                         3rd Qu.:72.00  \n",
       " Max.   :97.70                                         Max.   :91.00  \n",
       "                                                                      \n",
       "   degree_t            workex             etest_p     specialisation    \n",
       " Length:215         Length:215         Min.   :50.0   Length:215        \n",
       " Class :character   Class :character   1st Qu.:60.0   Class :character  \n",
       " Mode  :character   Mode  :character   Median :71.0   Mode  :character  \n",
       "                                       Mean   :72.1                     \n",
       "                                       3rd Qu.:83.5                     \n",
       "                                       Max.   :98.0                     \n",
       "                                                                        \n",
       "     mba_p          status              salary      \n",
       " Min.   :51.21   Length:215         Min.   :200000  \n",
       " 1st Qu.:57.95   Class :character   1st Qu.:240000  \n",
       " Median :62.00   Mode  :character   Median :265000  \n",
       " Mean   :62.28                      Mean   :288655  \n",
       " 3rd Qu.:66.25                      3rd Qu.:300000  \n",
       " Max.   :77.89                      Max.   :940000  \n",
       "                                    NA's   :67      "
      ]
     },
     "metadata": {},
     "output_type": "display_data"
    }
   ],
   "source": [
    "summary(df_original_r)"
   ]
  },
  {
   "cell_type": "markdown",
   "id": "144716aa-55b0-436d-8bfe-45bb546e62a4",
   "metadata": {},
   "source": [
    "#### Verificar valores ausentes (NA) | Conta quantos NAs tem em cada coluna"
   ]
  },
  {
   "cell_type": "code",
   "execution_count": 13,
   "id": "c99c1aed-4461-4efa-bf3d-b4d8bae87d75",
   "metadata": {},
   "outputs": [
    {
     "data": {
      "text/html": [
       "<style>\n",
       ".dl-inline {width: auto; margin:0; padding: 0}\n",
       ".dl-inline>dt, .dl-inline>dd {float: none; width: auto; display: inline-block}\n",
       ".dl-inline>dt::after {content: \":\\0020\"; padding-right: .5ex}\n",
       ".dl-inline>dt:not(:first-of-type) {padding-left: .5ex}\n",
       "</style><dl class=dl-inline><dt>sl_no</dt><dd>0</dd><dt>gender</dt><dd>0</dd><dt>ssc_p</dt><dd>0</dd><dt>ssc_b</dt><dd>0</dd><dt>hsc_p</dt><dd>0</dd><dt>hsc_b</dt><dd>0</dd><dt>hsc_s</dt><dd>0</dd><dt>degree_p</dt><dd>0</dd><dt>degree_t</dt><dd>0</dd><dt>workex</dt><dd>0</dd><dt>etest_p</dt><dd>0</dd><dt>specialisation</dt><dd>0</dd><dt>mba_p</dt><dd>0</dd><dt>status</dt><dd>0</dd><dt>salary</dt><dd>67</dd></dl>\n"
      ],
      "text/latex": [
       "\\begin{description*}\n",
       "\\item[sl\\textbackslash{}\\_no] 0\n",
       "\\item[gender] 0\n",
       "\\item[ssc\\textbackslash{}\\_p] 0\n",
       "\\item[ssc\\textbackslash{}\\_b] 0\n",
       "\\item[hsc\\textbackslash{}\\_p] 0\n",
       "\\item[hsc\\textbackslash{}\\_b] 0\n",
       "\\item[hsc\\textbackslash{}\\_s] 0\n",
       "\\item[degree\\textbackslash{}\\_p] 0\n",
       "\\item[degree\\textbackslash{}\\_t] 0\n",
       "\\item[workex] 0\n",
       "\\item[etest\\textbackslash{}\\_p] 0\n",
       "\\item[specialisation] 0\n",
       "\\item[mba\\textbackslash{}\\_p] 0\n",
       "\\item[status] 0\n",
       "\\item[salary] 67\n",
       "\\end{description*}\n"
      ],
      "text/markdown": [
       "sl_no\n",
       ":   0gender\n",
       ":   0ssc_p\n",
       ":   0ssc_b\n",
       ":   0hsc_p\n",
       ":   0hsc_b\n",
       ":   0hsc_s\n",
       ":   0degree_p\n",
       ":   0degree_t\n",
       ":   0workex\n",
       ":   0etest_p\n",
       ":   0specialisation\n",
       ":   0mba_p\n",
       ":   0status\n",
       ":   0salary\n",
       ":   67\n",
       "\n"
      ],
      "text/plain": [
       "         sl_no         gender          ssc_p          ssc_b          hsc_p \n",
       "             0              0              0              0              0 \n",
       "         hsc_b          hsc_s       degree_p       degree_t         workex \n",
       "             0              0              0              0              0 \n",
       "       etest_p specialisation          mba_p         status         salary \n",
       "             0              0              0              0             67 "
      ]
     },
     "metadata": {},
     "output_type": "display_data"
    }
   ],
   "source": [
    "colSums(is.na(df_original_r))"
   ]
  },
  {
   "cell_type": "markdown",
   "id": "aa1e64fe-8284-4b4b-86b3-89c71b91cea5",
   "metadata": {},
   "source": [
    "####  Verificar classes de cada coluna"
   ]
  },
  {
   "cell_type": "code",
   "execution_count": 14,
   "id": "fffbd727-09c1-43eb-acc5-8730c3162bf6",
   "metadata": {},
   "outputs": [
    {
     "data": {
      "text/html": [
       "<style>\n",
       ".dl-inline {width: auto; margin:0; padding: 0}\n",
       ".dl-inline>dt, .dl-inline>dd {float: none; width: auto; display: inline-block}\n",
       ".dl-inline>dt::after {content: \":\\0020\"; padding-right: .5ex}\n",
       ".dl-inline>dt:not(:first-of-type) {padding-left: .5ex}\n",
       "</style><dl class=dl-inline><dt>sl_no</dt><dd>'numeric'</dd><dt>gender</dt><dd>'character'</dd><dt>ssc_p</dt><dd>'numeric'</dd><dt>ssc_b</dt><dd>'character'</dd><dt>hsc_p</dt><dd>'numeric'</dd><dt>hsc_b</dt><dd>'character'</dd><dt>hsc_s</dt><dd>'character'</dd><dt>degree_p</dt><dd>'numeric'</dd><dt>degree_t</dt><dd>'character'</dd><dt>workex</dt><dd>'character'</dd><dt>etest_p</dt><dd>'numeric'</dd><dt>specialisation</dt><dd>'character'</dd><dt>mba_p</dt><dd>'numeric'</dd><dt>status</dt><dd>'character'</dd><dt>salary</dt><dd>'numeric'</dd></dl>\n"
      ],
      "text/latex": [
       "\\begin{description*}\n",
       "\\item[sl\\textbackslash{}\\_no] 'numeric'\n",
       "\\item[gender] 'character'\n",
       "\\item[ssc\\textbackslash{}\\_p] 'numeric'\n",
       "\\item[ssc\\textbackslash{}\\_b] 'character'\n",
       "\\item[hsc\\textbackslash{}\\_p] 'numeric'\n",
       "\\item[hsc\\textbackslash{}\\_b] 'character'\n",
       "\\item[hsc\\textbackslash{}\\_s] 'character'\n",
       "\\item[degree\\textbackslash{}\\_p] 'numeric'\n",
       "\\item[degree\\textbackslash{}\\_t] 'character'\n",
       "\\item[workex] 'character'\n",
       "\\item[etest\\textbackslash{}\\_p] 'numeric'\n",
       "\\item[specialisation] 'character'\n",
       "\\item[mba\\textbackslash{}\\_p] 'numeric'\n",
       "\\item[status] 'character'\n",
       "\\item[salary] 'numeric'\n",
       "\\end{description*}\n"
      ],
      "text/markdown": [
       "sl_no\n",
       ":   'numeric'gender\n",
       ":   'character'ssc_p\n",
       ":   'numeric'ssc_b\n",
       ":   'character'hsc_p\n",
       ":   'numeric'hsc_b\n",
       ":   'character'hsc_s\n",
       ":   'character'degree_p\n",
       ":   'numeric'degree_t\n",
       ":   'character'workex\n",
       ":   'character'etest_p\n",
       ":   'numeric'specialisation\n",
       ":   'character'mba_p\n",
       ":   'numeric'status\n",
       ":   'character'salary\n",
       ":   'numeric'\n",
       "\n"
      ],
      "text/plain": [
       "         sl_no         gender          ssc_p          ssc_b          hsc_p \n",
       "     \"numeric\"    \"character\"      \"numeric\"    \"character\"      \"numeric\" \n",
       "         hsc_b          hsc_s       degree_p       degree_t         workex \n",
       "   \"character\"    \"character\"      \"numeric\"    \"character\"    \"character\" \n",
       "       etest_p specialisation          mba_p         status         salary \n",
       "     \"numeric\"    \"character\"      \"numeric\"    \"character\"      \"numeric\" "
      ]
     },
     "metadata": {},
     "output_type": "display_data"
    }
   ],
   "source": [
    "sapply(df_original_r, class)"
   ]
  },
  {
   "cell_type": "markdown",
   "id": "a3dfec80-bac3-4d22-80c6-000b6268b907",
   "metadata": {},
   "source": [
    "#### Contagem de valores únicos (para variáveis categóricas)"
   ]
  },
  {
   "cell_type": "code",
   "execution_count": 15,
   "id": "d9389531-4e05-41e8-b137-581bfac42043",
   "metadata": {},
   "outputs": [
    {
     "data": {
      "text/html": [
       "<dl>\n",
       "\t<dt>$sl_no</dt>\n",
       "\t\t<dd>215</dd>\n",
       "\t<dt>$gender</dt>\n",
       "\t\t<dd>2</dd>\n",
       "\t<dt>$ssc_p</dt>\n",
       "\t\t<dd>103</dd>\n",
       "\t<dt>$ssc_b</dt>\n",
       "\t\t<dd>2</dd>\n",
       "\t<dt>$hsc_p</dt>\n",
       "\t\t<dd>97</dd>\n",
       "\t<dt>$hsc_b</dt>\n",
       "\t\t<dd>2</dd>\n",
       "\t<dt>$hsc_s</dt>\n",
       "\t\t<dd>3</dd>\n",
       "\t<dt>$degree_p</dt>\n",
       "\t\t<dd>89</dd>\n",
       "\t<dt>$degree_t</dt>\n",
       "\t\t<dd>3</dd>\n",
       "\t<dt>$workex</dt>\n",
       "\t\t<dd>2</dd>\n",
       "\t<dt>$etest_p</dt>\n",
       "\t\t<dd>100</dd>\n",
       "\t<dt>$specialisation</dt>\n",
       "\t\t<dd>2</dd>\n",
       "\t<dt>$mba_p</dt>\n",
       "\t\t<dd>205</dd>\n",
       "\t<dt>$status</dt>\n",
       "\t\t<dd>2</dd>\n",
       "\t<dt>$salary</dt>\n",
       "\t\t<dd>46</dd>\n",
       "</dl>\n"
      ],
      "text/latex": [
       "\\begin{description}\n",
       "\\item[\\$sl\\_no] 215\n",
       "\\item[\\$gender] 2\n",
       "\\item[\\$ssc\\_p] 103\n",
       "\\item[\\$ssc\\_b] 2\n",
       "\\item[\\$hsc\\_p] 97\n",
       "\\item[\\$hsc\\_b] 2\n",
       "\\item[\\$hsc\\_s] 3\n",
       "\\item[\\$degree\\_p] 89\n",
       "\\item[\\$degree\\_t] 3\n",
       "\\item[\\$workex] 2\n",
       "\\item[\\$etest\\_p] 100\n",
       "\\item[\\$specialisation] 2\n",
       "\\item[\\$mba\\_p] 205\n",
       "\\item[\\$status] 2\n",
       "\\item[\\$salary] 46\n",
       "\\end{description}\n"
      ],
      "text/markdown": [
       "$sl_no\n",
       ":   215\n",
       "$gender\n",
       ":   2\n",
       "$ssc_p\n",
       ":   103\n",
       "$ssc_b\n",
       ":   2\n",
       "$hsc_p\n",
       ":   97\n",
       "$hsc_b\n",
       ":   2\n",
       "$hsc_s\n",
       ":   3\n",
       "$degree_p\n",
       ":   89\n",
       "$degree_t\n",
       ":   3\n",
       "$workex\n",
       ":   2\n",
       "$etest_p\n",
       ":   100\n",
       "$specialisation\n",
       ":   2\n",
       "$mba_p\n",
       ":   205\n",
       "$status\n",
       ":   2\n",
       "$salary\n",
       ":   46\n",
       "\n",
       "\n"
      ],
      "text/plain": [
       "$sl_no\n",
       "[1] 215\n",
       "\n",
       "$gender\n",
       "[1] 2\n",
       "\n",
       "$ssc_p\n",
       "[1] 103\n",
       "\n",
       "$ssc_b\n",
       "[1] 2\n",
       "\n",
       "$hsc_p\n",
       "[1] 97\n",
       "\n",
       "$hsc_b\n",
       "[1] 2\n",
       "\n",
       "$hsc_s\n",
       "[1] 3\n",
       "\n",
       "$degree_p\n",
       "[1] 89\n",
       "\n",
       "$degree_t\n",
       "[1] 3\n",
       "\n",
       "$workex\n",
       "[1] 2\n",
       "\n",
       "$etest_p\n",
       "[1] 100\n",
       "\n",
       "$specialisation\n",
       "[1] 2\n",
       "\n",
       "$mba_p\n",
       "[1] 205\n",
       "\n",
       "$status\n",
       "[1] 2\n",
       "\n",
       "$salary\n",
       "[1] 46\n"
      ]
     },
     "metadata": {},
     "output_type": "display_data"
    }
   ],
   "source": [
    "lapply(df_original_r, function(col) length(unique(col)))"
   ]
  },
  {
   "cell_type": "markdown",
   "id": "ca86a4cd-e9d7-43f5-b2b2-d81d845084cf",
   "metadata": {},
   "source": [
    "#### Visualizações rápidas com ggplot2 (se for usar gráficos)"
   ]
  },
  {
   "cell_type": "code",
   "execution_count": 16,
   "id": "d091cb2f-b8eb-4a56-9280-4a7af90339ad",
   "metadata": {},
   "outputs": [
    {
     "name": "stderr",
     "output_type": "stream",
     "text": [
      "Installing package into ‘/home/davirnas/R/x86_64-pc-linux-gnu-library/4.5’\n",
      "(as ‘lib’ is unspecified)\n",
      "\n"
     ]
    },
    {
     "data": {
      "image/png": "[encoded data removed]",
      "text/plain": [
       "plot without title"
      ]
     },
     "metadata": {
      "image/png": {
       "height": 420,
       "width": 420
      }
     },
     "output_type": "display_data"
    }
   ],
   "source": [
    "install.packages(\"ggplot2\")\n",
    "library(ggplot2)\n",
    "\n",
    "# Histograma de uma variável numérica (ex: 'a')\n",
    "ggplot(df_original_r, aes(x = gender)) +\n",
    "  geom_bar(fill = \"steelblue\") +\n",
    "  theme_minimal()\n",
    "\n",
    "# geom_bar() : Cria um gráfico de barras para variáveis categóricas no eixo X\n",
    "# theme_minimal : Aplica um tema visual limpo e simples ao gráfico."
   ]
  },
  {
   "cell_type": "markdown",
   "id": "a9183d34-ee95-481b-9b96-36e928bea5be",
   "metadata": {},
   "source": [
    "### Aplicar Label Encoder : Técnica de Codificação de Atributos Categóricos"
   ]
  },
  {
   "cell_type": "code",
   "execution_count": null,
   "id": "bcf74d55-6ffe-41f6-8229-d70c8a03d638",
   "metadata": {},
   "outputs": [],
   "source": [
    "py_require(\"scikit-learn\")"
   ]
  },
  {
   "cell_type": "code",
   "execution_count": null,
   "id": "4ea36c8c-964a-49a5-b14c-db601d227f30",
   "metadata": {},
   "outputs": [],
   "source": [
    "sklearn <- import(\"sklearn.preprocessing\")"
   ]
  },
  {
   "cell_type": "code",
   "execution_count": null,
   "id": "0f0a740d-3ec9-41d2-ae2c-e4e75cc4e582",
   "metadata": {},
   "outputs": [],
   "source": [
    "le <- sklearn$LabelEncoder()"
   ]
  },
  {
   "cell_type": "markdown",
   "id": "c1bf456a-1808-4b34-87e9-10a3625303de",
   "metadata": {},
   "source": [
    "#### Colunas Categóricas"
   ]
  },
  {
   "cell_type": "code",
   "execution_count": null,
   "id": "5761c0fe-988c-488e-87b9-15fbef21dcda",
   "metadata": {},
   "outputs": [],
   "source": [
    "categorical_columns <- c(\"gender\", \"ssc_b\", \"hsc_b\", \"hsc_s\", \"degree_t\", \"workex\", \"specialisation\", \"status\")"
   ]
  },
  {
   "cell_type": "markdown",
   "id": "6089d692-2e29-48e7-affe-c0d41b10f29d",
   "metadata": {},
   "source": [
    "#### Aplicar LabelEncoder em cada coluna"
   ]
  },
  {
   "cell_type": "code",
   "execution_count": null,
   "id": "fa206f99-c69f-479e-ad95-3a690cb02b70",
   "metadata": {},
   "outputs": [],
   "source": [
    "for (col in categorical_columns) {\n",
    "  df_no_salary[[col]] <- le$fit_transform(df_no_salary[[col]])\n",
    "}"
   ]
  },
  {
   "cell_type": "code",
   "execution_count": null,
   "id": "e6382245-2688-4d7f-ab62-b3fda7a395e3",
   "metadata": {},
   "outputs": [],
   "source": [
    "head(df_no_salary)"
   ]
  },
  {
   "cell_type": "markdown",
   "id": "a76bc2f6-d9d1-4cba-b648-1461ded4efcd",
   "metadata": {},
   "source": [
    "#### Selecione um dos modelos de classificação aprendidos até agora na disciplina (Naive Bayes ou Regressão Logística) e treine-o com df_no_salary. Seu objetivo é prever a recolocação (status = [Placed/Recolocado, Not Placed/Não Recolocado]) de cada indivíduo"
   ]
  },
  {
   "cell_type": "code",
   "execution_count": null,
   "id": "2e7317a9-d433-4729-94a5-9baedc1176ba",
   "metadata": {},
   "outputs": [],
   "source": [
    "# Converte para um dataframe\n",
    "df_no_salary_r <- as.data.frame(df_no_salary)"
   ]
  },
  {
   "cell_type": "code",
   "execution_count": null,
   "id": "10cbfcc8-36d0-4775-b594-3a899ce08136",
   "metadata": {},
   "outputs": [],
   "source": [
    "# Dividindo em treino e teste (80% treino, 20% teste) de forma correta\n",
    "set.seed(42)\n",
    "index <- sample(1:nrow(df_no_salary_r), size = 0.8 * nrow(df_no_salary_r))\n",
    "train_data <- df_no_salary_r[index, ]\n",
    "test_data <- df_no_salary_r[-index, ]"
   ]
  },
  {
   "cell_type": "code",
   "execution_count": null,
   "id": "83829fa9-cb54-4ca1-aaa5-f92bee160aeb",
   "metadata": {},
   "outputs": [],
   "source": [
    "# Treinando o modelo de Regressão Logística\n",
    "logistic_model <- glm(status ~ ., data = train_data, family = \"binomial\")"
   ]
  },
  {
   "cell_type": "code",
   "execution_count": null,
   "id": "ebf2a158-c41e-4bb5-a9cd-79404a070605",
   "metadata": {},
   "outputs": [],
   "source": [
    "# Fazendo previsões\n",
    "test_data$pred_prob <- predict(logistic_model, newdata = test_data[, -which(names(test_data) == \"status\")], type = \"response\")\n",
    "test_data$pred_class <- ifelse(test_data$pred_prob > 0.5, 1, 0)"
   ]
  },
  {
   "cell_type": "code",
   "execution_count": null,
   "id": "657ef43b-2e5d-4c5a-8f9e-53bce19f708d",
   "metadata": {},
   "outputs": [],
   "source": [
    "# Convertendo os rótulos em fator\n",
    "test_data$status <- as.factor(test_data$status)\n",
    "test_data$pred_class <- as.factor(test_data$pred_class)"
   ]
  },
  {
   "cell_type": "code",
   "execution_count": null,
   "id": "c503eee7-00f0-4420-a65e-bf4feb11dbea",
   "metadata": {},
   "outputs": [],
   "source": [
    "# Avaliando o Modelo - Métricas\n",
    "library(caret)\n",
    "metrics <- confusionMatrix(test_data$pred_class, test_data$status)\n",
    "print(metrics)"
   ]
  },
  {
   "cell_type": "code",
   "execution_count": null,
   "id": "7e4d3f9a-6dc4-400a-b591-503026149cf9",
   "metadata": {},
   "outputs": [],
   "source": [
    "df_no_status <- df_original"
   ]
  },
  {
   "cell_type": "code",
   "execution_count": null,
   "id": "90c1fbd8-9d2d-49b6-9374-ee2d4ccb8764",
   "metadata": {},
   "outputs": [],
   "source": [
    "df_no_status"
   ]
  },
  {
   "cell_type": "markdown",
   "id": "2644e81b-4dce-4284-ab02-fbee6e1a9ad8",
   "metadata": {},
   "source": [
    "### 10 - A partir de df_original, crie o Data Frame df_no_status agora removendo a coluna status"
   ]
  },
  {
   "cell_type": "code",
   "execution_count": null,
   "id": "eb0cf2a4-e44f-45e7-a707-4ffbc6d36bb1",
   "metadata": {},
   "outputs": [],
   "source": [
    "df_no_status <- df_original"
   ]
  },
  {
   "cell_type": "code",
   "execution_count": null,
   "id": "ff03e6f2-591f-488e-912d-a34a30fd0ad9",
   "metadata": {},
   "outputs": [],
   "source": [
    "# Remoção da Coluna Status no dataframe\n",
    "# 1- Verificar se coluna existe no dataframe\n",
    "\n",
    "# Definindo o nome da coluna em uma variável\n",
    "coluna <- \"status\"\n",
    "\n",
    "# Verificar se a coluna existe no DataFrame\n",
    "if (coluna %in% colnames(df_no_status)) {\n",
    "    # Usando paste para concatenar e imprimir a mensagem\n",
    "    print(paste(\"A coluna\", coluna, \"existe.\"))\n",
    "    \n",
    "    # Remover a coluna do DataFrame\n",
    "    df_no_status <- df_no_status[, !colnames(df_no_status) %in% coluna]\n",
    "    print(paste(\"A coluna\", coluna, \"foi removida.\"))\n",
    "} else {\n",
    "    # Usando paste para concatenar e imprimir a mensagem\n",
    "    print(paste(\"A coluna\", coluna, \"não existe.\"))\n",
    "}"
   ]
  },
  {
   "cell_type": "code",
   "execution_count": null,
   "id": "59f5ee94-2cc8-4bb7-a4a8-9b8f567b0a87",
   "metadata": {},
   "outputs": [],
   "source": [
    "head(df_no_status)"
   ]
  },
  {
   "cell_type": "code",
   "execution_count": null,
   "id": "9ee31e7d-95a9-4568-928c-8b090b3aeb3d",
   "metadata": {},
   "outputs": [],
   "source": [
    "categorical_columns2 <- c(\"gender\", \"ssc_b\", \"hsc_b\", \"hsc_s\", \"degree_t\", \"workex\", \"specialisation\")"
   ]
  },
  {
   "cell_type": "code",
   "execution_count": null,
   "id": "0e551d44-0741-4d1f-bb74-bb84d5287c40",
   "metadata": {},
   "outputs": [],
   "source": [
    "for (col in categorical_columns2) {\n",
    "  df_no_status[[col]] <- le$fit_transform(df_no_status[[col]])\n",
    "}"
   ]
  },
  {
   "cell_type": "code",
   "execution_count": null,
   "id": "7e747997-1b71-415e-a64f-d7e2ae9ede46",
   "metadata": {},
   "outputs": [],
   "source": [
    "head(df_no_status)"
   ]
  },
  {
   "cell_type": "markdown",
   "id": "b69a2e7e-cd67-4ed3-9005-0c8048db78ad",
   "metadata": {},
   "source": [
    "### 11 - Treine um modelo de regressão linear múltipla e preveja os salários (salary) das amostras que não possuem essa informação em df_no_status"
   ]
  },
  {
   "cell_type": "code",
   "execution_count": null,
   "id": "4da35865-81d9-4d77-aa75-a3d1ae472d04",
   "metadata": {},
   "outputs": [],
   "source": [
    "preprocessing <- import(\"sklearn.preprocessing\")\n",
    "linear_model <- import(\"sklearn.linear_model\")\n",
    "\n",
    "df_no_status <- df_original[, !(names(df_original) %in% \"status\")]\n",
    "\n",
    "# Etapa 1: Separar os dados com e sem salário\n",
    "df_train <- df_no_status[!is.na(df_no_status$salary), ]\n",
    "df_test  <- df_no_status[is.na(df_no_status$salary), ]"
   ]
  },
  {
   "cell_type": "code",
   "execution_count": null,
   "id": "9ec1d99b-ca87-491a-a5da-aa221e19b708",
   "metadata": {},
   "outputs": [],
   "source": [
    "head(df_test)"
   ]
  },
  {
   "cell_type": "code",
   "execution_count": null,
   "id": "c1c18a8b-c015-4037-8d3c-ca4e741dd925",
   "metadata": {},
   "outputs": [],
   "source": [
    "# Etapa 2: Remover a coluna status, se necessário\n",
    "# df_train <- df_train[, !colnames(df_train) %in% \"status\"]\n",
    "# df_test  <- df_test[, !colnames(df_test) %in% \"status\"]\n",
    "# Colunas categóricas\n",
    "categorical_columns3 <- c(\"gender\", \"ssc_b\", \"hsc_b\", \"hsc_s\", \"degree_t\", \"workex\", \"specialisation\")\n",
    "\n",
    "# Aplicar LabelEncoder a cada coluna, guardando os encoders\n",
    "encoders <- list()\n",
    "for (col in categorical_columns3) {\n",
    "  le <- preprocessing$LabelEncoder()\n",
    "  df_train[[col]] <- le$fit_transform(df_train[[col]])\n",
    "  df_test[[col]] <- le$transform(df_test[[col]])  # aplicar mesma codificação no teste\n",
    "  encoders[[col]] <- le  # salvar o encoder, caso queira usar depois\n",
    "}"
   ]
  },
  {
   "cell_type": "code",
   "execution_count": null,
   "id": "6ccfcb4c-51de-4287-a097-ccd339858d82",
   "metadata": {},
   "outputs": [],
   "source": [
    "# Remover colunas não numéricas ou desnecessárias\n",
    "# (ex: \"nome\" se existir — aqui assumimos que todas as colunas fora 'salary' são preditoras)\n",
    "feature_columns <- setdiff(colnames(df_train), \"salary\")"
   ]
  },
  {
   "cell_type": "code",
   "execution_count": null,
   "id": "4a6f1900-303a-4354-8e0e-99c6d0b9e59e",
   "metadata": {},
   "outputs": [],
   "source": [
    "# Colunas categóricas\n",
    "categorical_columns3 <- c(\"gender\", \"ssc_b\", \"hsc_b\", \"hsc_s\", \"degree_t\", \"workex\", \"specialisation\")\n",
    "\n",
    "# Aplicar LabelEncoder a cada coluna, guardando os encoders\n",
    "for (col in categorical_columns3) {\n",
    "  le <- preprocessing$LabelEncoder()\n",
    "  df_train[[col]] <- as.numeric(le$fit_transform(df_train[[col]]))\n",
    "  df_test[[col]]  <- as.numeric(le$transform(df_test[[col]]))\n",
    "  encoders[[col]] <- le\n",
    "}\n"
   ]
  },
  {
   "cell_type": "code",
   "execution_count": null,
   "id": "63089158-c68c-46a6-aebe-df8f821128b0",
   "metadata": {},
   "outputs": [],
   "source": [
    "# Treinar modelo de regressão linear\n",
    "model <- linear_model$LinearRegression()\n",
    "model$fit(df_train[, feature_columns], df_train$salary)"
   ]
  },
  {
   "cell_type": "code",
   "execution_count": null,
   "id": "bf0e324b-53a1-49ad-b429-b4552ad358cc",
   "metadata": {},
   "outputs": [],
   "source": [
    "# Prever salários para o conjunto de teste\n",
    "predicted_salaries <- model$predict(df_test[, feature_columns])\n",
    "\n",
    "# Adicionar a previsão ao df_test\n",
    "df_test$salary <- predicted_salaries\n",
    "\n",
    "# Agora df_test contém os salários previstos\n",
    "head(df_test)"
   ]
  },
  {
   "cell_type": "markdown",
   "id": "a0e9f451-a567-42a0-812b-88abc4784224",
   "metadata": {},
   "source": [
    "### 12 - Para as amostras que não possuem o atributo salary preenchidos em df_no_status, inclua o valor previsto pelo modelo de regressão linear múltipla"
   ]
  },
  {
   "cell_type": "code",
   "execution_count": null,
   "id": "b9fdb0e2-6039-4876-928c-147e256696d1",
   "metadata": {},
   "outputs": [],
   "source": [
    "missing_salary_idx <- which(is.na(df_no_status$salary))\n",
    "\n",
    "if (length(missing_salary_idx) == length(predicted_salaries)) {\n",
    "  df_no_status$salary[missing_salary_idx] <- predicted_salaries\n",
    "} else {\n",
    "  print(\"Erro: número de salários previstos não bate com o número de salários ausentes.\")\n",
    "}"
   ]
  },
  {
   "cell_type": "code",
   "execution_count": null,
   "id": "45784288-8239-41cc-b612-ab62f0d44599",
   "metadata": {},
   "outputs": [],
   "source": [
    "head(df_no_status)"
   ]
  },
  {
   "cell_type": "code",
   "execution_count": null,
   "id": "83c61fd8-5420-41f0-b381-a8a94f3fce24",
   "metadata": {},
   "outputs": [],
   "source": []
  }
 ],
 "metadata": {
  "kernelspec": {
   "display_name": "R",
   "language": "R",
   "name": "ir"
  },
  "language_info": {
   "codemirror_mode": "r",
   "file_extension": ".r",
   "mimetype": "text/x-r-source",
   "name": "R",
   "pygments_lexer": "r",
   "version": "4.5.0"
  }
 },
 "nbformat": 4,
 "nbformat_minor": 5
}
