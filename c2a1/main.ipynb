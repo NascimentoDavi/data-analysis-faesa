{
 "cells": [
  {
   "cell_type": "markdown",
   "id": "9350ae45-66c2-480f-9754-ecd16952a4fd",
   "metadata": {},
   "source": [
    "# Reticulate"
   ]
  },
  {
   "cell_type": "markdown",
   "id": "ede5ef6f-1315-4f65-91e7-032179bbbcb8",
   "metadata": {},
   "source": [
    "### Pacote que permite a integração do R e do Python no mesmo ambiente, oference uma interface entre os dois."
   ]
  },
  {
   "cell_type": "code",
   "execution_count": null,
   "id": "95ebe22c-e03a-4138-86ca-67794355bd75",
   "metadata": {},
   "outputs": [
    {
     "name": "stderr",
     "output_type": "stream",
     "text": [
      "Installing package into ‘/home/davirnas/R/x86_64-pc-linux-gnu-library/4.5’\n",
      "(as ‘lib’ is unspecified)\n",
      "\n"
     ]
    }
   ],
   "source": [
    "# Instala o Reticulate em uma localização específica\n",
    "install.packages(\"reticulate\")\n",
    "\n",
    "# Carrega o pacote para o ambiente, considerando que ele já foi instalado acima\n",
    "library(reticulate)"
   ]
  },
  {
   "cell_type": "code",
   "execution_count": null,
   "id": "f6d60126-4f2b-4463-ab72-0f03a4ff82b2",
   "metadata": {},
   "outputs": [],
   "source": [
    "# Exibe informações sobre a configuração atual do Python no ambiente R\n",
    "py_config()"
   ]
  },
  {
   "cell_type": "code",
   "execution_count": null,
   "id": "79df984d-3474-45eb-960f-8e2a7c2e3ad7",
   "metadata": {},
   "outputs": [],
   "source": [
    "# garante que o pacote pandas esteja disponível no ambiente Python que está sendo utilizado pelo reticulate\n",
    "py_require(\"pandas\")"
   ]
  },
  {
   "cell_type": "code",
   "execution_count": null,
   "id": "9b548fb7-6645-44f1-a58a-a4350953dcd7",
   "metadata": {},
   "outputs": [],
   "source": [
    "pd <- import(\"pandas\")"
   ]
  },
  {
   "cell_type": "code",
   "execution_count": null,
   "id": "6220c74b-78c0-4174-b4e2-eb3283b4b866",
   "metadata": {},
   "outputs": [],
   "source": [
    "df_original <- pd$read_csv(\"Placement_Data_Full_Class.csv\")"
   ]
  },
  {
   "cell_type": "code",
   "execution_count": null,
   "id": "87448eaa-d620-4910-9ad9-e4d98100347d",
   "metadata": {},
   "outputs": [],
   "source": [
    "# Criar Cópia\n",
    "df_no_salary <- df_original"
   ]
  },
  {
   "cell_type": "code",
   "execution_count": null,
   "id": "f29e64b6-60a3-4886-8c26-6a6de8a8e7c9",
   "metadata": {},
   "outputs": [],
   "source": [
    "# Remoção da ColunaSalary no dataframe\n",
    "# 1- Verificar se coluna existe no dataframe\n",
    "\n",
    "# Definindo o nome da coluna em uma variável\n",
    "coluna <- \"salary\"\n",
    "\n",
    "# Verificar se a coluna existe no DataFrame\n",
    "if (coluna %in% colnames(df_no_salary)) {\n",
    "    # Usando paste para concatenar e imprimir a mensagem\n",
    "    print(paste(\"A coluna\", coluna, \"existe.\"))\n",
    "    \n",
    "    # Remover a coluna do DataFrame\n",
    "    df_no_salary <- df_no_salary[, !colnames(df_no_salary) %in% coluna]\n",
    "    print(paste(\"A coluna\", coluna, \"foi removida.\"))\n",
    "} else {\n",
    "    # Usando paste para concatenar e imprimir a mensagem\n",
    "    print(paste(\"A coluna\", coluna, \"não existe.\"))\n",
    "}"
   ]
  },
  {
   "cell_type": "markdown",
   "id": "e6c10422-33d8-4e80-b0c4-037a4046725f",
   "metadata": {},
   "source": [
    "### Análise Exploratória de Dados (EDA)"
   ]
  },
  {
   "cell_type": "markdown",
   "id": "379c9018-d959-403d-8662-ee542a006c47",
   "metadata": {},
   "source": [
    "#### Converter Dataframe de Python para R"
   ]
  },
  {
   "cell_type": "code",
   "execution_count": null,
   "id": "8d1c8828-ce49-4849-b9a3-ec5c13d0fcc9",
   "metadata": {},
   "outputs": [],
   "source": [
    "df_original_r <- py_to_r(df_original)"
   ]
  },
  {
   "cell_type": "markdown",
   "id": "060bbee4-3782-477f-9905-d997c8b1a514",
   "metadata": {},
   "source": [
    "#### Mostra as 6 primeiras linhas (Primeiras Linhas)"
   ]
  },
  {
   "cell_type": "code",
   "execution_count": null,
   "id": "bd26429b-9fea-42db-86fa-3b3e8a8f265a",
   "metadata": {},
   "outputs": [],
   "source": [
    "head(df_original_r)"
   ]
  },
  {
   "cell_type": "markdown",
   "id": "3165328f-5dab-4bab-83d3-ef64c81cd94b",
   "metadata": {},
   "source": [
    "#### Ver Estrtutura do Dataframe | Mostra os tipos de variáveis, nomes das colunas e alguns valores iniciais.\n"
   ]
  },
  {
   "cell_type": "code",
   "execution_count": null,
   "id": "b8891268-c0d6-4ac6-b144-22223b8f8ea6",
   "metadata": {
    "jp-MarkdownHeadingCollapsed": true
   },
   "outputs": [],
   "source": [
    "str(df_original_r)"
   ]
  },
  {
   "cell_type": "markdown",
   "id": "38c268aa-0cc4-4cba-bdee-a3e3c9d21743",
   "metadata": {},
   "source": [
    "#### Sumário Estatístico"
   ]
  },
  {
   "cell_type": "code",
   "execution_count": null,
   "id": "fbd6df85-675e-42de-b195-40f4c2967d69",
   "metadata": {},
   "outputs": [],
   "source": [
    "summary(df_original_r)"
   ]
  },
  {
   "cell_type": "markdown",
   "id": "144716aa-55b0-436d-8bfe-45bb546e62a4",
   "metadata": {},
   "source": [
    "#### Verificar valores ausentes (NA) | Conta quantos NAs tem em cada coluna"
   ]
  },
  {
   "cell_type": "code",
   "execution_count": null,
   "id": "c99c1aed-4461-4efa-bf3d-b4d8bae87d75",
   "metadata": {},
   "outputs": [],
   "source": [
    "colSums(is.na(df_original_r))"
   ]
  },
  {
   "cell_type": "markdown",
   "id": "aa1e64fe-8284-4b4b-86b3-89c71b91cea5",
   "metadata": {},
   "source": [
    "####  Verificar classes de cada coluna"
   ]
  },
  {
   "cell_type": "code",
   "execution_count": null,
   "id": "fffbd727-09c1-43eb-acc5-8730c3162bf6",
   "metadata": {},
   "outputs": [],
   "source": [
    "sapply(df_original_r, class)"
   ]
  },
  {
   "cell_type": "markdown",
   "id": "a3dfec80-bac3-4d22-80c6-000b6268b907",
   "metadata": {},
   "source": [
    "#### Contagem de valores únicos (para variáveis categóricas)"
   ]
  },
  {
   "cell_type": "code",
   "execution_count": null,
   "id": "d9389531-4e05-41e8-b137-581bfac42043",
   "metadata": {},
   "outputs": [],
   "source": [
    "lapply(df_original_r, function(col) length(unique(col)))"
   ]
  },
  {
   "cell_type": "markdown",
   "id": "ca86a4cd-e9d7-43f5-b2b2-d81d845084cf",
   "metadata": {},
   "source": [
    "#### Visualizações rápidas com ggplot2 (se for usar gráficos)"
   ]
  },
  {
   "cell_type": "code",
   "execution_count": null,
   "id": "d091cb2f-b8eb-4a56-9280-4a7af90339ad",
   "metadata": {},
   "outputs": [],
   "source": [
    "install.packages(\"ggplot2\")\n",
    "library(ggplot2)\n",
    "\n",
    "# Histograma de uma variável numérica (ex: 'a')\n",
    "ggplot(df_original_r, aes(x = gender)) +\n",
    "  geom_bar(fill = \"steelblue\") +\n",
    "  theme_minimal()\n",
    "\n",
    "# geom_bar() : Cria um gráfico de barras para variáveis categóricas no eixo X\n",
    "# theme_minimal : Aplica um tema visual limpo e simples ao gráfico."
   ]
  },
  {
   "cell_type": "markdown",
   "id": "a9183d34-ee95-481b-9b96-36e928bea5be",
   "metadata": {},
   "source": [
    "### Aplicar Label Encoder : Técnica de Codificação de Atributos Categóricos"
   ]
  },
  {
   "cell_type": "code",
   "execution_count": null,
   "id": "bcf74d55-6ffe-41f6-8229-d70c8a03d638",
   "metadata": {},
   "outputs": [],
   "source": [
    "py_require(\"scikit-learn\")"
   ]
  },
  {
   "cell_type": "code",
   "execution_count": null,
   "id": "4ea36c8c-964a-49a5-b14c-db601d227f30",
   "metadata": {},
   "outputs": [],
   "source": [
    "sklearn <- import(\"sklearn.preprocessing\")"
   ]
  },
  {
   "cell_type": "code",
   "execution_count": null,
   "id": "0f0a740d-3ec9-41d2-ae2c-e4e75cc4e582",
   "metadata": {},
   "outputs": [],
   "source": [
    "le <- sklearn$LabelEncoder()"
   ]
  },
  {
   "cell_type": "markdown",
   "id": "c1bf456a-1808-4b34-87e9-10a3625303de",
   "metadata": {},
   "source": [
    "#### Colunas Categóricas"
   ]
  },
  {
   "cell_type": "code",
   "execution_count": null,
   "id": "5761c0fe-988c-488e-87b9-15fbef21dcda",
   "metadata": {},
   "outputs": [],
   "source": [
    "categorical_columns <- c(\"gender\", \"ssc_b\", \"hsc_b\", \"hsc_s\", \"degree_t\", \"workex\", \"specialisation\", \"status\")"
   ]
  },
  {
   "cell_type": "markdown",
   "id": "6089d692-2e29-48e7-affe-c0d41b10f29d",
   "metadata": {},
   "source": [
    "#### Aplicar LabelEncoder em cada coluna"
   ]
  },
  {
   "cell_type": "code",
   "execution_count": null,
   "id": "fa206f99-c69f-479e-ad95-3a690cb02b70",
   "metadata": {},
   "outputs": [],
   "source": [
    "for (col in categorical_columns) {\n",
    "  df_no_salary[[col]] <- le$fit_transform(df_no_salary[[col]])\n",
    "}"
   ]
  },
  {
   "cell_type": "code",
   "execution_count": null,
   "id": "e6382245-2688-4d7f-ab62-b3fda7a395e3",
   "metadata": {},
   "outputs": [],
   "source": [
    "head(df_no_salary)"
   ]
  },
  {
   "cell_type": "markdown",
   "id": "a76bc2f6-d9d1-4cba-b648-1461ded4efcd",
   "metadata": {},
   "source": [
    "#### Selecione um dos modelos de classificação aprendidos até agora na disciplina (Naive Bayes ou Regressão Logística) e treine-o com df_no_salary. Seu objetivo é prever a recolocação (status = [Placed/Recolocado, Not Placed/Não Recolocado]) de cada indivíduo"
   ]
  },
  {
   "cell_type": "code",
   "execution_count": null,
   "id": "2e7317a9-d433-4729-94a5-9baedc1176ba",
   "metadata": {},
   "outputs": [],
   "source": [
    "# Converte para um dataframe\n",
    "df_no_salary_r <- as.data.frame(df_no_salary)"
   ]
  },
  {
   "cell_type": "code",
   "execution_count": null,
   "id": "10cbfcc8-36d0-4775-b594-3a899ce08136",
   "metadata": {},
   "outputs": [],
   "source": [
    "# Dividindo em treino e teste (80% treino, 20% teste) de forma correta\n",
    "set.seed(42)\n",
    "index <- sample(1:nrow(df_no_salary_r), size = 0.8 * nrow(df_no_salary_r))\n",
    "train_data <- df_no_salary_r[index, ]\n",
    "test_data <- df_no_salary_r[-index, ]"
   ]
  },
  {
   "cell_type": "code",
   "execution_count": null,
   "id": "83829fa9-cb54-4ca1-aaa5-f92bee160aeb",
   "metadata": {},
   "outputs": [],
   "source": [
    "# Treinando o modelo de Regressão Logística\n",
    "logistic_model <- glm(status ~ ., data = train_data, family = \"binomial\")"
   ]
  },
  {
   "cell_type": "code",
   "execution_count": null,
   "id": "ebf2a158-c41e-4bb5-a9cd-79404a070605",
   "metadata": {},
   "outputs": [],
   "source": [
    "# Fazendo previsões\n",
    "test_data$pred_prob <- predict(logistic_model, newdata = test_data[, -which(names(test_data) == \"status\")], type = \"response\")\n",
    "test_data$pred_class <- ifelse(test_data$pred_prob > 0.5, 1, 0)"
   ]
  },
  {
   "cell_type": "code",
   "execution_count": null,
   "id": "657ef43b-2e5d-4c5a-8f9e-53bce19f708d",
   "metadata": {},
   "outputs": [],
   "source": [
    "# Convertendo os rótulos em fator\n",
    "test_data$status <- as.factor(test_data$status)\n",
    "test_data$pred_class <- as.factor(test_data$pred_class)"
   ]
  },
  {
   "cell_type": "code",
   "execution_count": null,
   "id": "c503eee7-00f0-4420-a65e-bf4feb11dbea",
   "metadata": {},
   "outputs": [],
   "source": [
    "# Avaliando o Modelo - Métricas\n",
    "library(caret)\n",
    "metrics <- confusionMatrix(test_data$pred_class, test_data$status)\n",
    "print(metrics)"
   ]
  },
  {
   "cell_type": "code",
   "execution_count": null,
   "id": "7e4d3f9a-6dc4-400a-b591-503026149cf9",
   "metadata": {},
   "outputs": [],
   "source": [
    "df_no_status <- df_original"
   ]
  },
  {
   "cell_type": "code",
   "execution_count": null,
   "id": "90c1fbd8-9d2d-49b6-9374-ee2d4ccb8764",
   "metadata": {},
   "outputs": [],
   "source": [
    "df_no_status"
   ]
  },
  {
   "cell_type": "markdown",
   "id": "2644e81b-4dce-4284-ab02-fbee6e1a9ad8",
   "metadata": {},
   "source": [
    "### 10 - A partir de df_original, crie o Data Frame df_no_status agora removendo a coluna status"
   ]
  },
  {
   "cell_type": "code",
   "execution_count": null,
   "id": "eb0cf2a4-e44f-45e7-a707-4ffbc6d36bb1",
   "metadata": {},
   "outputs": [],
   "source": [
    "df_no_status <- df_original"
   ]
  },
  {
   "cell_type": "code",
   "execution_count": null,
   "id": "ff03e6f2-591f-488e-912d-a34a30fd0ad9",
   "metadata": {},
   "outputs": [],
   "source": [
    "# Remoção da Coluna Status no dataframe\n",
    "# 1- Verificar se coluna existe no dataframe\n",
    "\n",
    "# Definindo o nome da coluna em uma variável\n",
    "coluna <- \"status\"\n",
    "\n",
    "# Verificar se a coluna existe no DataFrame\n",
    "if (coluna %in% colnames(df_no_status)) {\n",
    "    # Usando paste para concatenar e imprimir a mensagem\n",
    "    print(paste(\"A coluna\", coluna, \"existe.\"))\n",
    "    \n",
    "    # Remover a coluna do DataFrame\n",
    "    df_no_status <- df_no_status[, !colnames(df_no_status) %in% coluna]\n",
    "    print(paste(\"A coluna\", coluna, \"foi removida.\"))\n",
    "} else {\n",
    "    # Usando paste para concatenar e imprimir a mensagem\n",
    "    print(paste(\"A coluna\", coluna, \"não existe.\"))\n",
    "}"
   ]
  },
  {
   "cell_type": "code",
   "execution_count": null,
   "id": "59f5ee94-2cc8-4bb7-a4a8-9b8f567b0a87",
   "metadata": {},
   "outputs": [],
   "source": [
    "head(df_no_status)"
   ]
  },
  {
   "cell_type": "code",
   "execution_count": null,
   "id": "9ee31e7d-95a9-4568-928c-8b090b3aeb3d",
   "metadata": {},
   "outputs": [],
   "source": [
    "categorical_columns2 <- c(\"gender\", \"ssc_b\", \"hsc_b\", \"hsc_s\", \"degree_t\", \"workex\", \"specialisation\")"
   ]
  },
  {
   "cell_type": "code",
   "execution_count": null,
   "id": "0e551d44-0741-4d1f-bb74-bb84d5287c40",
   "metadata": {},
   "outputs": [],
   "source": [
    "for (col in categorical_columns2) {\n",
    "  df_no_status[[col]] <- le$fit_transform(df_no_status[[col]])\n",
    "}"
   ]
  },
  {
   "cell_type": "code",
   "execution_count": null,
   "id": "7e747997-1b71-415e-a64f-d7e2ae9ede46",
   "metadata": {},
   "outputs": [],
   "source": [
    "head(df_no_status)"
   ]
  },
  {
   "cell_type": "markdown",
   "id": "b69a2e7e-cd67-4ed3-9005-0c8048db78ad",
   "metadata": {},
   "source": [
    "### 11 - Treine um modelo de regressão linear múltipla e preveja os salários (salary) das amostras que não possuem essa informação em df_no_status"
   ]
  },
  {
   "cell_type": "code",
   "execution_count": null,
   "id": "4da35865-81d9-4d77-aa75-a3d1ae472d04",
   "metadata": {},
   "outputs": [],
   "source": [
    "preprocessing <- import(\"sklearn.preprocessing\")\n",
    "linear_model <- import(\"sklearn.linear_model\")\n",
    "\n",
    "df_no_status <- df_original[, !(names(df_original) %in% \"status\")]\n",
    "\n",
    "# Etapa 1: Separar os dados com e sem salário\n",
    "df_train <- df_no_status[!is.na(df_no_status$salary), ]\n",
    "df_test  <- df_no_status[is.na(df_no_status$salary), ]"
   ]
  },
  {
   "cell_type": "code",
   "execution_count": null,
   "id": "9ec1d99b-ca87-491a-a5da-aa221e19b708",
   "metadata": {},
   "outputs": [],
   "source": [
    "head(df_test)"
   ]
  },
  {
   "cell_type": "code",
   "execution_count": null,
   "id": "c1c18a8b-c015-4037-8d3c-ca4e741dd925",
   "metadata": {},
   "outputs": [],
   "source": [
    "# Etapa 2: Remover a coluna status, se necessário\n",
    "# df_train <- df_train[, !colnames(df_train) %in% \"status\"]\n",
    "# df_test  <- df_test[, !colnames(df_test) %in% \"status\"]\n",
    "# Colunas categóricas\n",
    "categorical_columns3 <- c(\"gender\", \"ssc_b\", \"hsc_b\", \"hsc_s\", \"degree_t\", \"workex\", \"specialisation\")\n",
    "\n",
    "# Aplicar LabelEncoder a cada coluna, guardando os encoders\n",
    "encoders <- list()\n",
    "for (col in categorical_columns3) {\n",
    "  le <- preprocessing$LabelEncoder()\n",
    "  df_train[[col]] <- le$fit_transform(df_train[[col]])\n",
    "  df_test[[col]] <- le$transform(df_test[[col]])  # aplicar mesma codificação no teste\n",
    "  encoders[[col]] <- le  # salvar o encoder, caso queira usar depois\n",
    "}"
   ]
  },
  {
   "cell_type": "code",
   "execution_count": null,
   "id": "6ccfcb4c-51de-4287-a097-ccd339858d82",
   "metadata": {},
   "outputs": [],
   "source": [
    "# Remover colunas não numéricas ou desnecessárias\n",
    "# (ex: \"nome\" se existir — aqui assumimos que todas as colunas fora 'salary' são preditoras)\n",
    "feature_columns <- setdiff(colnames(df_train), \"salary\")"
   ]
  },
  {
   "cell_type": "code",
   "execution_count": null,
   "id": "4a6f1900-303a-4354-8e0e-99c6d0b9e59e",
   "metadata": {},
   "outputs": [],
   "source": [
    "# Colunas categóricas\n",
    "categorical_columns3 <- c(\"gender\", \"ssc_b\", \"hsc_b\", \"hsc_s\", \"degree_t\", \"workex\", \"specialisation\")\n",
    "\n",
    "# Aplicar LabelEncoder a cada coluna, guardando os encoders\n",
    "for (col in categorical_columns3) {\n",
    "  le <- preprocessing$LabelEncoder()\n",
    "  df_train[[col]] <- as.numeric(le$fit_transform(df_train[[col]]))\n",
    "  df_test[[col]]  <- as.numeric(le$transform(df_test[[col]]))\n",
    "  encoders[[col]] <- le\n",
    "}\n"
   ]
  },
  {
   "cell_type": "code",
   "execution_count": null,
   "id": "63089158-c68c-46a6-aebe-df8f821128b0",
   "metadata": {},
   "outputs": [],
   "source": [
    "# Treinar modelo de regressão linear\n",
    "model <- linear_model$LinearRegression()\n",
    "model$fit(df_train[, feature_columns], df_train$salary)"
   ]
  },
  {
   "cell_type": "code",
   "execution_count": null,
   "id": "bf0e324b-53a1-49ad-b429-b4552ad358cc",
   "metadata": {},
   "outputs": [],
   "source": [
    "# Prever salários para o conjunto de teste\n",
    "predicted_salaries <- model$predict(df_test[, feature_columns])\n",
    "\n",
    "# Adicionar a previsão ao df_test\n",
    "df_test$salary <- predicted_salaries\n",
    "\n",
    "# Agora df_test contém os salários previstos\n",
    "head(df_test)"
   ]
  },
  {
   "cell_type": "markdown",
   "id": "a0e9f451-a567-42a0-812b-88abc4784224",
   "metadata": {},
   "source": [
    "### 12 - Para as amostras que não possuem o atributo salary preenchidos em df_no_status, inclua o valor previsto pelo modelo de regressão linear múltipla"
   ]
  },
  {
   "cell_type": "code",
   "execution_count": null,
   "id": "b9fdb0e2-6039-4876-928c-147e256696d1",
   "metadata": {},
   "outputs": [],
   "source": [
    "missing_salary_idx <- which(is.na(df_no_status$salary))\n",
    "\n",
    "if (length(missing_salary_idx) == length(predicted_salaries)) {\n",
    "  df_no_status$salary[missing_salary_idx] <- predicted_salaries\n",
    "} else {\n",
    "  print(\"Erro: número de salários previstos não bate com o número de salários ausentes.\")\n",
    "}"
   ]
  },
  {
   "cell_type": "code",
   "execution_count": null,
   "id": "45784288-8239-41cc-b612-ab62f0d44599",
   "metadata": {},
   "outputs": [],
   "source": [
    "head(df_no_status)"
   ]
  },
  {
   "cell_type": "markdown",
   "id": "4bf2cba2-84af-45f1-a500-b8b506340897",
   "metadata": {},
   "source": [
    "### 13 - Copiar Salary de df_no_status para df_original"
   ]
  },
  {
   "cell_type": "code",
   "execution_count": null,
   "id": "83c61fd8-5420-41f0-b381-a8a94f3fce24",
   "metadata": {},
   "outputs": [],
   "source": [
    "df_original$salary <- df_no_status$salary"
   ]
  },
  {
   "cell_type": "code",
   "execution_count": null,
   "id": "82ddcf39-dcde-489c-bd72-ae0d9b01e449",
   "metadata": {},
   "outputs": [],
   "source": [
    "head(df_original)"
   ]
  },
  {
   "cell_type": "markdown",
   "id": "b876b362-7969-4d45-804a-a4af1339214c",
   "metadata": {},
   "source": [
    "### 14 - Treinar o modelo do nº 8 com df_original"
   ]
  },
  {
   "cell_type": "code",
   "execution_count": null,
   "id": "9d2fa68e-c211-4c87-8446-159a2788fc57",
   "metadata": {},
   "outputs": [],
   "source": [
    "# Dividindo em treino e teste (80% treino, 20% teste) de forma correta\n",
    "set.seed(42)\n",
    "index <- sample(1:nrow(df_original), size = 0.8 * nrow(df_original))\n",
    "train_data <- df_original[index, ]\n",
    "test_data <- df_original[-index, ]"
   ]
  },
  {
   "cell_type": "code",
   "execution_count": null,
   "id": "ab926859-13e4-4146-9341-01f0d481dc26",
   "metadata": {},
   "outputs": [],
   "source": [
    "train_data$status <- as.factor(train_data$status)"
   ]
  },
  {
   "cell_type": "code",
   "execution_count": null,
   "id": "21f42a47-539a-4311-9843-f776e5f1ea50",
   "metadata": {},
   "outputs": [],
   "source": [
    "logistic_model <- glm(status ~ ., data = train_data, family = \"binomial\")"
   ]
  }
 ],
 "metadata": {
  "kernelspec": {
   "display_name": "R",
   "language": "R",
   "name": "ir"
  },
  "language_info": {
   "codemirror_mode": "r",
   "file_extension": ".r",
   "mimetype": "text/x-r-source",
   "name": "R",
   "pygments_lexer": "r",
   "version": "4.5.0"
  }
 },
 "nbformat": 4,
 "nbformat_minor": 5
}
