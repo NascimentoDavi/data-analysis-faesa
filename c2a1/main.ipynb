{
 "cells": [
  {
   "cell_type": "markdown",
   "id": "9350ae45-66c2-480f-9754-ecd16952a4fd",
   "metadata": {},
   "source": [
    "# Reticulate"
   ]
  },
  {
   "cell_type": "markdown",
   "id": "ede5ef6f-1315-4f65-91e7-032179bbbcb8",
   "metadata": {
    "jp-MarkdownHeadingCollapsed": true
   },
   "source": [
    "### Pacote que permite a integração do R e do Python no mesmo ambiente, oference uma interface entre os dois."
   ]
  },
  {
   "cell_type": "code",
   "execution_count": 1,
   "id": "95ebe22c-e03a-4138-86ca-67794355bd75",
   "metadata": {},
   "outputs": [
    {
     "name": "stdout",
     "output_type": "stream",
     "text": [
      "pacote 'reticulate' desempacotado com sucesso e somas MD5 verificadas\n",
      "\n",
      "Os pacotes binários baixados estão em\n",
      "\tC:\\Users\\estagiario.nti02\\AppData\\Local\\Temp\\Rtmp4AhVdL\\downloaded_packages\n"
     ]
    }
   ],
   "source": [
    "# Instala o Reticulate em uma localização específica\n",
    "install.packages(\"reticulate\", lib = \"C:/Users/estagiario.nti02/AppData/Local/R/win-library/4.5\")\n",
    "\n",
    "# Carrega o pacote para o ambiente, considerando que ele já foi instalado acima\n",
    "library(reticulate)"
   ]
  },
  {
   "cell_type": "code",
   "execution_count": 2,
   "id": "f6d60126-4f2b-4463-ab72-0f03a4ff82b2",
   "metadata": {},
   "outputs": [
    {
     "data": {
      "text/plain": [
       "python:         C:/Users/estagiario.nti02/AppData/Local/R/cache/R/reticulate/uv/cache/archive-v0/lGdNWGmoHG3El018YVgH5/Scripts/python.exe\n",
       "libpython:      C:/Users/estagiario.nti02/AppData/Local/R/cache/R/reticulate/uv/python/cpython-3.11.12-windows-x86_64-none/python311.dll\n",
       "pythonhome:     C:/Users/estagiario.nti02/AppData/Local/R/cache/R/reticulate/uv/cache/archive-v0/lGdNWGmoHG3El018YVgH5\n",
       "virtualenv:     C:/Users/estagiario.nti02/AppData/Local/R/cache/R/reticulate/uv/cache/archive-v0/lGdNWGmoHG3El018YVgH5/Scripts/activate_this.py\n",
       "version:        3.11.12 (main, Apr  9 2025, 04:03:34) [MSC v.1943 64 bit (AMD64)]\n",
       "Architecture:   64bit\n",
       "numpy:          C:/Users/estagiario.nti02/AppData/Local/R/cache/R/reticulate/uv/cache/archive-v0/lGdNWGmoHG3El018YVgH5/Lib/site-packages/numpy\n",
       "numpy_version:  2.2.5\n",
       "\n",
       "NOTE: Python version was forced by py_require()"
      ]
     },
     "metadata": {},
     "output_type": "display_data"
    }
   ],
   "source": [
    "# Exibe informações sobre a configuração atual do Python no ambiente R\n",
    "py_config()"
   ]
  },
  {
   "cell_type": "code",
   "execution_count": 3,
   "id": "79df984d-3474-45eb-960f-8e2a7c2e3ad7",
   "metadata": {},
   "outputs": [],
   "source": [
    "# garante que o pacote pandas esteja disponível no ambiente Python que está sendo utilizado pelo reticulate\n",
    "py_require(\"pandas\")"
   ]
  },
  {
   "cell_type": "code",
   "execution_count": 4,
   "id": "9b548fb7-6645-44f1-a58a-a4350953dcd7",
   "metadata": {},
   "outputs": [],
   "source": [
    "pd <- import(\"pandas\")"
   ]
  },
  {
   "cell_type": "code",
   "execution_count": 5,
   "id": "6220c74b-78c0-4174-b4e2-eb3283b4b866",
   "metadata": {},
   "outputs": [],
   "source": [
    "df_original <- pd$read_csv(\"Placement_Data_Full_Class.csv\")"
   ]
  },
  {
   "cell_type": "code",
   "execution_count": 6,
   "id": "87448eaa-d620-4910-9ad9-e4d98100347d",
   "metadata": {},
   "outputs": [],
   "source": [
    "# Criar Cópia\n",
    "df_no_salary <- df_original"
   ]
  },
  {
   "cell_type": "code",
   "execution_count": 7,
   "id": "f29e64b6-60a3-4886-8c26-6a6de8a8e7c9",
   "metadata": {},
   "outputs": [
    {
     "name": "stdout",
     "output_type": "stream",
     "text": [
      "[1] \"A coluna salary existe.\"\n",
      "[1] \"A coluna salary foi removida.\"\n"
     ]
    }
   ],
   "source": [
    "# Remoção da ColunaSalary no dataframe\n",
    "# 1- Verificar se coluna existe no dataframe\n",
    "\n",
    "# Definindo o nome da coluna em uma variável\n",
    "coluna <- \"salary\"\n",
    "\n",
    "# Verificar se a coluna existe no DataFrame\n",
    "if (coluna %in% colnames(df_no_salary)) {\n",
    "    # Usando paste para concatenar e imprimir a mensagem\n",
    "    print(paste(\"A coluna\", coluna, \"existe.\"))\n",
    "    \n",
    "    # Remover a coluna do DataFrame\n",
    "    df_no_salary <- df_no_salary[, !colnames(df_no_salary) %in% coluna]\n",
    "    print(paste(\"A coluna\", coluna, \"foi removida.\"))\n",
    "} else {\n",
    "    # Usando paste para concatenar e imprimir a mensagem\n",
    "    print(paste(\"A coluna\", coluna, \"não existe.\"))\n",
    "}"
   ]
  },
  {
   "cell_type": "markdown",
   "id": "e6c10422-33d8-4e80-b0c4-037a4046725f",
   "metadata": {
    "jp-MarkdownHeadingCollapsed": true
   },
   "source": [
    "### Análise Exploratória de Dados (EDA)"
   ]
  },
  {
   "cell_type": "markdown",
   "id": "379c9018-d959-403d-8662-ee542a006c47",
   "metadata": {},
   "source": [
    "##### Converter Dataframe de Python para R"
   ]
  },
  {
   "cell_type": "code",
   "execution_count": 8,
   "id": "8d1c8828-ce49-4849-b9a3-ec5c13d0fcc9",
   "metadata": {},
   "outputs": [],
   "source": [
    "df_original_r <- py_to_r(df_original)"
   ]
  },
  {
   "cell_type": "markdown",
   "id": "060bbee4-3782-477f-9905-d997c8b1a514",
   "metadata": {},
   "source": [
    "##### Mostra as 6 primeiras linhas (Primeiras Linhas)"
   ]
  },
  {
   "cell_type": "code",
   "execution_count": 9,
   "id": "bd26429b-9fea-42db-86fa-3b3e8a8f265a",
   "metadata": {},
   "outputs": [
    {
     "data": {
      "text/html": [
       "<table class=\"dataframe\">\n",
       "<caption>A data.frame: 6 × 15</caption>\n",
       "<thead>\n",
       "\t<tr><th></th><th scope=col>sl_no</th><th scope=col>gender</th><th scope=col>ssc_p</th><th scope=col>ssc_b</th><th scope=col>hsc_p</th><th scope=col>hsc_b</th><th scope=col>hsc_s</th><th scope=col>degree_p</th><th scope=col>degree_t</th><th scope=col>workex</th><th scope=col>etest_p</th><th scope=col>specialisation</th><th scope=col>mba_p</th><th scope=col>status</th><th scope=col>salary</th></tr>\n",
       "\t<tr><th></th><th scope=col>&lt;dbl&gt;</th><th scope=col>&lt;chr&gt;</th><th scope=col>&lt;dbl&gt;</th><th scope=col>&lt;chr&gt;</th><th scope=col>&lt;dbl&gt;</th><th scope=col>&lt;chr&gt;</th><th scope=col>&lt;chr&gt;</th><th scope=col>&lt;dbl&gt;</th><th scope=col>&lt;chr&gt;</th><th scope=col>&lt;chr&gt;</th><th scope=col>&lt;dbl&gt;</th><th scope=col>&lt;chr&gt;</th><th scope=col>&lt;dbl&gt;</th><th scope=col>&lt;chr&gt;</th><th scope=col>&lt;dbl&gt;</th></tr>\n",
       "</thead>\n",
       "<tbody>\n",
       "\t<tr><th scope=row>1</th><td>1</td><td>M</td><td>67.00</td><td>Others </td><td>91.00</td><td>Others </td><td>Commerce</td><td>58.00</td><td>Sci&amp;Tech </td><td>No </td><td>55.0</td><td>Mkt&amp;HR </td><td>58.80</td><td><span style=white-space:pre-wrap>Placed    </span></td><td>270000</td></tr>\n",
       "\t<tr><th scope=row>2</th><td>2</td><td>M</td><td>79.33</td><td>Central</td><td>78.33</td><td>Others </td><td>Science </td><td>77.48</td><td>Sci&amp;Tech </td><td>Yes</td><td>86.5</td><td>Mkt&amp;Fin</td><td>66.28</td><td><span style=white-space:pre-wrap>Placed    </span></td><td>200000</td></tr>\n",
       "\t<tr><th scope=row>3</th><td>3</td><td>M</td><td>65.00</td><td>Central</td><td>68.00</td><td>Central</td><td><span style=white-space:pre-wrap>Arts    </span></td><td>64.00</td><td>Comm&amp;Mgmt</td><td>No </td><td>75.0</td><td>Mkt&amp;Fin</td><td>57.80</td><td><span style=white-space:pre-wrap>Placed    </span></td><td>250000</td></tr>\n",
       "\t<tr><th scope=row>4</th><td>4</td><td>M</td><td>56.00</td><td>Central</td><td>52.00</td><td>Central</td><td>Science </td><td>52.00</td><td>Sci&amp;Tech </td><td>No </td><td>66.0</td><td>Mkt&amp;HR </td><td>59.43</td><td>Not Placed</td><td><span style=white-space:pre-wrap>   NaN</span></td></tr>\n",
       "\t<tr><th scope=row>5</th><td>5</td><td>M</td><td>85.80</td><td>Central</td><td>73.60</td><td>Central</td><td>Commerce</td><td>73.30</td><td>Comm&amp;Mgmt</td><td>No </td><td>96.8</td><td>Mkt&amp;Fin</td><td>55.50</td><td><span style=white-space:pre-wrap>Placed    </span></td><td>425000</td></tr>\n",
       "\t<tr><th scope=row>6</th><td>6</td><td>M</td><td>55.00</td><td>Others </td><td>49.80</td><td>Others </td><td>Science </td><td>67.25</td><td>Sci&amp;Tech </td><td>Yes</td><td>55.0</td><td>Mkt&amp;Fin</td><td>51.58</td><td>Not Placed</td><td><span style=white-space:pre-wrap>   NaN</span></td></tr>\n",
       "</tbody>\n",
       "</table>\n"
      ],
      "text/latex": [
       "A data.frame: 6 × 15\n",
       "\\begin{tabular}{r|lllllllllllllll}\n",
       "  & sl\\_no & gender & ssc\\_p & ssc\\_b & hsc\\_p & hsc\\_b & hsc\\_s & degree\\_p & degree\\_t & workex & etest\\_p & specialisation & mba\\_p & status & salary\\\\\n",
       "  & <dbl> & <chr> & <dbl> & <chr> & <dbl> & <chr> & <chr> & <dbl> & <chr> & <chr> & <dbl> & <chr> & <dbl> & <chr> & <dbl>\\\\\n",
       "\\hline\n",
       "\t1 & 1 & M & 67.00 & Others  & 91.00 & Others  & Commerce & 58.00 & Sci\\&Tech  & No  & 55.0 & Mkt\\&HR  & 58.80 & Placed     & 270000\\\\\n",
       "\t2 & 2 & M & 79.33 & Central & 78.33 & Others  & Science  & 77.48 & Sci\\&Tech  & Yes & 86.5 & Mkt\\&Fin & 66.28 & Placed     & 200000\\\\\n",
       "\t3 & 3 & M & 65.00 & Central & 68.00 & Central & Arts     & 64.00 & Comm\\&Mgmt & No  & 75.0 & Mkt\\&Fin & 57.80 & Placed     & 250000\\\\\n",
       "\t4 & 4 & M & 56.00 & Central & 52.00 & Central & Science  & 52.00 & Sci\\&Tech  & No  & 66.0 & Mkt\\&HR  & 59.43 & Not Placed &    NaN\\\\\n",
       "\t5 & 5 & M & 85.80 & Central & 73.60 & Central & Commerce & 73.30 & Comm\\&Mgmt & No  & 96.8 & Mkt\\&Fin & 55.50 & Placed     & 425000\\\\\n",
       "\t6 & 6 & M & 55.00 & Others  & 49.80 & Others  & Science  & 67.25 & Sci\\&Tech  & Yes & 55.0 & Mkt\\&Fin & 51.58 & Not Placed &    NaN\\\\\n",
       "\\end{tabular}\n"
      ],
      "text/markdown": [
       "\n",
       "A data.frame: 6 × 15\n",
       "\n",
       "| <!--/--> | sl_no &lt;dbl&gt; | gender &lt;chr&gt; | ssc_p &lt;dbl&gt; | ssc_b &lt;chr&gt; | hsc_p &lt;dbl&gt; | hsc_b &lt;chr&gt; | hsc_s &lt;chr&gt; | degree_p &lt;dbl&gt; | degree_t &lt;chr&gt; | workex &lt;chr&gt; | etest_p &lt;dbl&gt; | specialisation &lt;chr&gt; | mba_p &lt;dbl&gt; | status &lt;chr&gt; | salary &lt;dbl&gt; |\n",
       "|---|---|---|---|---|---|---|---|---|---|---|---|---|---|---|---|\n",
       "| 1 | 1 | M | 67.00 | Others  | 91.00 | Others  | Commerce | 58.00 | Sci&amp;Tech  | No  | 55.0 | Mkt&amp;HR  | 58.80 | Placed     | 270000 |\n",
       "| 2 | 2 | M | 79.33 | Central | 78.33 | Others  | Science  | 77.48 | Sci&amp;Tech  | Yes | 86.5 | Mkt&amp;Fin | 66.28 | Placed     | 200000 |\n",
       "| 3 | 3 | M | 65.00 | Central | 68.00 | Central | Arts     | 64.00 | Comm&amp;Mgmt | No  | 75.0 | Mkt&amp;Fin | 57.80 | Placed     | 250000 |\n",
       "| 4 | 4 | M | 56.00 | Central | 52.00 | Central | Science  | 52.00 | Sci&amp;Tech  | No  | 66.0 | Mkt&amp;HR  | 59.43 | Not Placed |    NaN |\n",
       "| 5 | 5 | M | 85.80 | Central | 73.60 | Central | Commerce | 73.30 | Comm&amp;Mgmt | No  | 96.8 | Mkt&amp;Fin | 55.50 | Placed     | 425000 |\n",
       "| 6 | 6 | M | 55.00 | Others  | 49.80 | Others  | Science  | 67.25 | Sci&amp;Tech  | Yes | 55.0 | Mkt&amp;Fin | 51.58 | Not Placed |    NaN |\n",
       "\n"
      ],
      "text/plain": [
       "  sl_no gender ssc_p ssc_b   hsc_p hsc_b   hsc_s    degree_p degree_t  workex\n",
       "1 1     M      67.00 Others  91.00 Others  Commerce 58.00    Sci&Tech  No    \n",
       "2 2     M      79.33 Central 78.33 Others  Science  77.48    Sci&Tech  Yes   \n",
       "3 3     M      65.00 Central 68.00 Central Arts     64.00    Comm&Mgmt No    \n",
       "4 4     M      56.00 Central 52.00 Central Science  52.00    Sci&Tech  No    \n",
       "5 5     M      85.80 Central 73.60 Central Commerce 73.30    Comm&Mgmt No    \n",
       "6 6     M      55.00 Others  49.80 Others  Science  67.25    Sci&Tech  Yes   \n",
       "  etest_p specialisation mba_p status     salary\n",
       "1 55.0    Mkt&HR         58.80 Placed     270000\n",
       "2 86.5    Mkt&Fin        66.28 Placed     200000\n",
       "3 75.0    Mkt&Fin        57.80 Placed     250000\n",
       "4 66.0    Mkt&HR         59.43 Not Placed    NaN\n",
       "5 96.8    Mkt&Fin        55.50 Placed     425000\n",
       "6 55.0    Mkt&Fin        51.58 Not Placed    NaN"
      ]
     },
     "metadata": {},
     "output_type": "display_data"
    }
   ],
   "source": [
    "head(df_original_r)"
   ]
  },
  {
   "cell_type": "markdown",
   "id": "3165328f-5dab-4bab-83d3-ef64c81cd94b",
   "metadata": {
    "jp-MarkdownHeadingCollapsed": true
   },
   "source": [
    "##### Ver Estrtutura do Dataframe | Mostra os tipos de variáveis, nomes das colunas e alguns valores iniciais.\n"
   ]
  },
  {
   "cell_type": "markdown",
   "id": "2ea8da9d-ac38-47fb-919a-c58e5042fcdb",
   "metadata": {
    "jp-MarkdownHeadingCollapsed": true
   },
   "source": [
    "str(df_original_r)"
   ]
  },
  {
   "cell_type": "markdown",
   "id": "38c268aa-0cc4-4cba-bdee-a3e3c9d21743",
   "metadata": {},
   "source": [
    "##### Sumário Estatístico"
   ]
  },
  {
   "cell_type": "code",
   "execution_count": 10,
   "id": "fbd6df85-675e-42de-b195-40f4c2967d69",
   "metadata": {},
   "outputs": [
    {
     "data": {
      "text/plain": [
       "     sl_no          gender              ssc_p          ssc_b          \n",
       " Min.   :  1.0   Length:215         Min.   :40.89   Length:215        \n",
       " 1st Qu.: 54.5   Class :character   1st Qu.:60.60   Class :character  \n",
       " Median :108.0   Mode  :character   Median :67.00   Mode  :character  \n",
       " Mean   :108.0                      Mean   :67.30                     \n",
       " 3rd Qu.:161.5                      3rd Qu.:75.70                     \n",
       " Max.   :215.0                      Max.   :89.40                     \n",
       "                                                                      \n",
       "     hsc_p          hsc_b              hsc_s              degree_p    \n",
       " Min.   :37.00   Length:215         Length:215         Min.   :50.00  \n",
       " 1st Qu.:60.90   Class :character   Class :character   1st Qu.:61.00  \n",
       " Median :65.00   Mode  :character   Mode  :character   Median :66.00  \n",
       " Mean   :66.33                                         Mean   :66.37  \n",
       " 3rd Qu.:73.00                                         3rd Qu.:72.00  \n",
       " Max.   :97.70                                         Max.   :91.00  \n",
       "                                                                      \n",
       "   degree_t            workex             etest_p     specialisation    \n",
       " Length:215         Length:215         Min.   :50.0   Length:215        \n",
       " Class :character   Class :character   1st Qu.:60.0   Class :character  \n",
       " Mode  :character   Mode  :character   Median :71.0   Mode  :character  \n",
       "                                       Mean   :72.1                     \n",
       "                                       3rd Qu.:83.5                     \n",
       "                                       Max.   :98.0                     \n",
       "                                                                        \n",
       "     mba_p          status              salary      \n",
       " Min.   :51.21   Length:215         Min.   :200000  \n",
       " 1st Qu.:57.95   Class :character   1st Qu.:240000  \n",
       " Median :62.00   Mode  :character   Median :265000  \n",
       " Mean   :62.28                      Mean   :288655  \n",
       " 3rd Qu.:66.25                      3rd Qu.:300000  \n",
       " Max.   :77.89                      Max.   :940000  \n",
       "                                    NA's   :67      "
      ]
     },
     "metadata": {},
     "output_type": "display_data"
    }
   ],
   "source": [
    "summary(df_original_r)"
   ]
  },
  {
   "cell_type": "markdown",
   "id": "144716aa-55b0-436d-8bfe-45bb546e62a4",
   "metadata": {},
   "source": [
    "##### Verificar valores ausentes (NA) | Conta quantos NAs tem em cada coluna"
   ]
  },
  {
   "cell_type": "code",
   "execution_count": 11,
   "id": "c99c1aed-4461-4efa-bf3d-b4d8bae87d75",
   "metadata": {},
   "outputs": [
    {
     "data": {
      "text/html": [
       "<style>\n",
       ".dl-inline {width: auto; margin:0; padding: 0}\n",
       ".dl-inline>dt, .dl-inline>dd {float: none; width: auto; display: inline-block}\n",
       ".dl-inline>dt::after {content: \":\\0020\"; padding-right: .5ex}\n",
       ".dl-inline>dt:not(:first-of-type) {padding-left: .5ex}\n",
       "</style><dl class=dl-inline><dt>sl_no</dt><dd>0</dd><dt>gender</dt><dd>0</dd><dt>ssc_p</dt><dd>0</dd><dt>ssc_b</dt><dd>0</dd><dt>hsc_p</dt><dd>0</dd><dt>hsc_b</dt><dd>0</dd><dt>hsc_s</dt><dd>0</dd><dt>degree_p</dt><dd>0</dd><dt>degree_t</dt><dd>0</dd><dt>workex</dt><dd>0</dd><dt>etest_p</dt><dd>0</dd><dt>specialisation</dt><dd>0</dd><dt>mba_p</dt><dd>0</dd><dt>status</dt><dd>0</dd><dt>salary</dt><dd>67</dd></dl>\n"
      ],
      "text/latex": [
       "\\begin{description*}\n",
       "\\item[sl\\textbackslash{}\\_no] 0\n",
       "\\item[gender] 0\n",
       "\\item[ssc\\textbackslash{}\\_p] 0\n",
       "\\item[ssc\\textbackslash{}\\_b] 0\n",
       "\\item[hsc\\textbackslash{}\\_p] 0\n",
       "\\item[hsc\\textbackslash{}\\_b] 0\n",
       "\\item[hsc\\textbackslash{}\\_s] 0\n",
       "\\item[degree\\textbackslash{}\\_p] 0\n",
       "\\item[degree\\textbackslash{}\\_t] 0\n",
       "\\item[workex] 0\n",
       "\\item[etest\\textbackslash{}\\_p] 0\n",
       "\\item[specialisation] 0\n",
       "\\item[mba\\textbackslash{}\\_p] 0\n",
       "\\item[status] 0\n",
       "\\item[salary] 67\n",
       "\\end{description*}\n"
      ],
      "text/markdown": [
       "sl_no\n",
       ":   0gender\n",
       ":   0ssc_p\n",
       ":   0ssc_b\n",
       ":   0hsc_p\n",
       ":   0hsc_b\n",
       ":   0hsc_s\n",
       ":   0degree_p\n",
       ":   0degree_t\n",
       ":   0workex\n",
       ":   0etest_p\n",
       ":   0specialisation\n",
       ":   0mba_p\n",
       ":   0status\n",
       ":   0salary\n",
       ":   67\n",
       "\n"
      ],
      "text/plain": [
       "         sl_no         gender          ssc_p          ssc_b          hsc_p \n",
       "             0              0              0              0              0 \n",
       "         hsc_b          hsc_s       degree_p       degree_t         workex \n",
       "             0              0              0              0              0 \n",
       "       etest_p specialisation          mba_p         status         salary \n",
       "             0              0              0              0             67 "
      ]
     },
     "metadata": {},
     "output_type": "display_data"
    }
   ],
   "source": [
    "colSums(is.na(df_original_r))"
   ]
  },
  {
   "cell_type": "markdown",
   "id": "aa1e64fe-8284-4b4b-86b3-89c71b91cea5",
   "metadata": {},
   "source": [
    "#####  Verificar classes de cada coluna"
   ]
  },
  {
   "cell_type": "code",
   "execution_count": 12,
   "id": "fffbd727-09c1-43eb-acc5-8730c3162bf6",
   "metadata": {},
   "outputs": [
    {
     "data": {
      "text/html": [
       "<style>\n",
       ".dl-inline {width: auto; margin:0; padding: 0}\n",
       ".dl-inline>dt, .dl-inline>dd {float: none; width: auto; display: inline-block}\n",
       ".dl-inline>dt::after {content: \":\\0020\"; padding-right: .5ex}\n",
       ".dl-inline>dt:not(:first-of-type) {padding-left: .5ex}\n",
       "</style><dl class=dl-inline><dt>sl_no</dt><dd>'numeric'</dd><dt>gender</dt><dd>'character'</dd><dt>ssc_p</dt><dd>'numeric'</dd><dt>ssc_b</dt><dd>'character'</dd><dt>hsc_p</dt><dd>'numeric'</dd><dt>hsc_b</dt><dd>'character'</dd><dt>hsc_s</dt><dd>'character'</dd><dt>degree_p</dt><dd>'numeric'</dd><dt>degree_t</dt><dd>'character'</dd><dt>workex</dt><dd>'character'</dd><dt>etest_p</dt><dd>'numeric'</dd><dt>specialisation</dt><dd>'character'</dd><dt>mba_p</dt><dd>'numeric'</dd><dt>status</dt><dd>'character'</dd><dt>salary</dt><dd>'numeric'</dd></dl>\n"
      ],
      "text/latex": [
       "\\begin{description*}\n",
       "\\item[sl\\textbackslash{}\\_no] 'numeric'\n",
       "\\item[gender] 'character'\n",
       "\\item[ssc\\textbackslash{}\\_p] 'numeric'\n",
       "\\item[ssc\\textbackslash{}\\_b] 'character'\n",
       "\\item[hsc\\textbackslash{}\\_p] 'numeric'\n",
       "\\item[hsc\\textbackslash{}\\_b] 'character'\n",
       "\\item[hsc\\textbackslash{}\\_s] 'character'\n",
       "\\item[degree\\textbackslash{}\\_p] 'numeric'\n",
       "\\item[degree\\textbackslash{}\\_t] 'character'\n",
       "\\item[workex] 'character'\n",
       "\\item[etest\\textbackslash{}\\_p] 'numeric'\n",
       "\\item[specialisation] 'character'\n",
       "\\item[mba\\textbackslash{}\\_p] 'numeric'\n",
       "\\item[status] 'character'\n",
       "\\item[salary] 'numeric'\n",
       "\\end{description*}\n"
      ],
      "text/markdown": [
       "sl_no\n",
       ":   'numeric'gender\n",
       ":   'character'ssc_p\n",
       ":   'numeric'ssc_b\n",
       ":   'character'hsc_p\n",
       ":   'numeric'hsc_b\n",
       ":   'character'hsc_s\n",
       ":   'character'degree_p\n",
       ":   'numeric'degree_t\n",
       ":   'character'workex\n",
       ":   'character'etest_p\n",
       ":   'numeric'specialisation\n",
       ":   'character'mba_p\n",
       ":   'numeric'status\n",
       ":   'character'salary\n",
       ":   'numeric'\n",
       "\n"
      ],
      "text/plain": [
       "         sl_no         gender          ssc_p          ssc_b          hsc_p \n",
       "     \"numeric\"    \"character\"      \"numeric\"    \"character\"      \"numeric\" \n",
       "         hsc_b          hsc_s       degree_p       degree_t         workex \n",
       "   \"character\"    \"character\"      \"numeric\"    \"character\"    \"character\" \n",
       "       etest_p specialisation          mba_p         status         salary \n",
       "     \"numeric\"    \"character\"      \"numeric\"    \"character\"      \"numeric\" "
      ]
     },
     "metadata": {},
     "output_type": "display_data"
    }
   ],
   "source": [
    "sapply(df_original_r, class)"
   ]
  },
  {
   "cell_type": "markdown",
   "id": "a3dfec80-bac3-4d22-80c6-000b6268b907",
   "metadata": {},
   "source": [
    "##### Contagem de valores únicos (para variáveis categóricas)"
   ]
  },
  {
   "cell_type": "code",
   "execution_count": 13,
   "id": "d9389531-4e05-41e8-b137-581bfac42043",
   "metadata": {},
   "outputs": [
    {
     "data": {
      "text/html": [
       "<dl>\n",
       "\t<dt>$sl_no</dt>\n",
       "\t\t<dd>215</dd>\n",
       "\t<dt>$gender</dt>\n",
       "\t\t<dd>2</dd>\n",
       "\t<dt>$ssc_p</dt>\n",
       "\t\t<dd>103</dd>\n",
       "\t<dt>$ssc_b</dt>\n",
       "\t\t<dd>2</dd>\n",
       "\t<dt>$hsc_p</dt>\n",
       "\t\t<dd>97</dd>\n",
       "\t<dt>$hsc_b</dt>\n",
       "\t\t<dd>2</dd>\n",
       "\t<dt>$hsc_s</dt>\n",
       "\t\t<dd>3</dd>\n",
       "\t<dt>$degree_p</dt>\n",
       "\t\t<dd>89</dd>\n",
       "\t<dt>$degree_t</dt>\n",
       "\t\t<dd>3</dd>\n",
       "\t<dt>$workex</dt>\n",
       "\t\t<dd>2</dd>\n",
       "\t<dt>$etest_p</dt>\n",
       "\t\t<dd>100</dd>\n",
       "\t<dt>$specialisation</dt>\n",
       "\t\t<dd>2</dd>\n",
       "\t<dt>$mba_p</dt>\n",
       "\t\t<dd>205</dd>\n",
       "\t<dt>$status</dt>\n",
       "\t\t<dd>2</dd>\n",
       "\t<dt>$salary</dt>\n",
       "\t\t<dd>46</dd>\n",
       "</dl>\n"
      ],
      "text/latex": [
       "\\begin{description}\n",
       "\\item[\\$sl\\_no] 215\n",
       "\\item[\\$gender] 2\n",
       "\\item[\\$ssc\\_p] 103\n",
       "\\item[\\$ssc\\_b] 2\n",
       "\\item[\\$hsc\\_p] 97\n",
       "\\item[\\$hsc\\_b] 2\n",
       "\\item[\\$hsc\\_s] 3\n",
       "\\item[\\$degree\\_p] 89\n",
       "\\item[\\$degree\\_t] 3\n",
       "\\item[\\$workex] 2\n",
       "\\item[\\$etest\\_p] 100\n",
       "\\item[\\$specialisation] 2\n",
       "\\item[\\$mba\\_p] 205\n",
       "\\item[\\$status] 2\n",
       "\\item[\\$salary] 46\n",
       "\\end{description}\n"
      ],
      "text/markdown": [
       "$sl_no\n",
       ":   215\n",
       "$gender\n",
       ":   2\n",
       "$ssc_p\n",
       ":   103\n",
       "$ssc_b\n",
       ":   2\n",
       "$hsc_p\n",
       ":   97\n",
       "$hsc_b\n",
       ":   2\n",
       "$hsc_s\n",
       ":   3\n",
       "$degree_p\n",
       ":   89\n",
       "$degree_t\n",
       ":   3\n",
       "$workex\n",
       ":   2\n",
       "$etest_p\n",
       ":   100\n",
       "$specialisation\n",
       ":   2\n",
       "$mba_p\n",
       ":   205\n",
       "$status\n",
       ":   2\n",
       "$salary\n",
       ":   46\n",
       "\n",
       "\n"
      ],
      "text/plain": [
       "$sl_no\n",
       "[1] 215\n",
       "\n",
       "$gender\n",
       "[1] 2\n",
       "\n",
       "$ssc_p\n",
       "[1] 103\n",
       "\n",
       "$ssc_b\n",
       "[1] 2\n",
       "\n",
       "$hsc_p\n",
       "[1] 97\n",
       "\n",
       "$hsc_b\n",
       "[1] 2\n",
       "\n",
       "$hsc_s\n",
       "[1] 3\n",
       "\n",
       "$degree_p\n",
       "[1] 89\n",
       "\n",
       "$degree_t\n",
       "[1] 3\n",
       "\n",
       "$workex\n",
       "[1] 2\n",
       "\n",
       "$etest_p\n",
       "[1] 100\n",
       "\n",
       "$specialisation\n",
       "[1] 2\n",
       "\n",
       "$mba_p\n",
       "[1] 205\n",
       "\n",
       "$status\n",
       "[1] 2\n",
       "\n",
       "$salary\n",
       "[1] 46\n"
      ]
     },
     "metadata": {},
     "output_type": "display_data"
    }
   ],
   "source": [
    "lapply(df_original_r, function(col) length(unique(col)))"
   ]
  },
  {
   "cell_type": "markdown",
   "id": "ca86a4cd-e9d7-43f5-b2b2-d81d845084cf",
   "metadata": {},
   "source": [
    "##### Visualizações rápidas com ggplot2 (se for usar gráficos)"
   ]
  },
  {
   "cell_type": "code",
   "execution_count": 14,
   "id": "d091cb2f-b8eb-4a56-9280-4a7af90339ad",
   "metadata": {},
   "outputs": [
    {
     "name": "stderr",
     "output_type": "stream",
     "text": [
      "Instalando pacote em 'C:/Users/estagiario.nti02/AppData/Local/R/win-library/4.5'\n",
      "(como 'lib' não foi especificado)\n",
      "\n"
     ]
    },
    {
     "name": "stdout",
     "output_type": "stream",
     "text": [
      "pacote 'ggplot2' desempacotado com sucesso e somas MD5 verificadas\n",
      "\n",
      "Os pacotes binários baixados estão em\n",
      "\tC:\\Users\\estagiario.nti02\\AppData\\Local\\Temp\\Rtmp4AhVdL\\downloaded_packages\n"
     ]
    },
    {
     "data": {
      "image/png": "[encoded data removed]",
      "text/plain": [
       "plot without title"
      ]
     },
     "metadata": {
      "image/png": {
       "height": 420,
       "width": 420
      }
     },
     "output_type": "display_data"
    }
   ],
   "source": [
    "install.packages(\"ggplot2\")\n",
    "library(ggplot2)\n",
    "\n",
    "# Histograma de uma variável numérica (ex: 'a')\n",
    "ggplot(df_original_r, aes(x = gender)) +\n",
    "  geom_bar(fill = \"steelblue\") +\n",
    "  theme_minimal()\n",
    "\n",
    "# geom_bar() : Cria um gráfico de barras para variáveis categóricas no eixo X\n",
    "# theme_minimal : Aplica um tema visual limpo e simples ao gráfico."
   ]
  },
  {
   "cell_type": "markdown",
   "id": "a9183d34-ee95-481b-9b96-36e928bea5be",
   "metadata": {},
   "source": [
    "### Aplicar Label Encoder : Técnica de Codificação de Atributos Categóricos"
   ]
  },
  {
   "cell_type": "code",
   "execution_count": 17,
   "id": "bcf74d55-6ffe-41f6-8229-d70c8a03d638",
   "metadata": {},
   "outputs": [],
   "source": [
    "py_require(\"scikit-learn\")"
   ]
  },
  {
   "cell_type": "code",
   "execution_count": 18,
   "id": "4ea36c8c-964a-49a5-b14c-db601d227f30",
   "metadata": {},
   "outputs": [],
   "source": [
    "sklearn <- import(\"sklearn.preprocessing\")"
   ]
  },
  {
   "cell_type": "code",
   "execution_count": 20,
   "id": "0f0a740d-3ec9-41d2-ae2c-e4e75cc4e582",
   "metadata": {},
   "outputs": [],
   "source": [
    "le <- sklearn$LabelEncoder()"
   ]
  },
  {
   "cell_type": "markdown",
   "id": "c1bf456a-1808-4b34-87e9-10a3625303de",
   "metadata": {
    "jp-MarkdownHeadingCollapsed": true
   },
   "source": [
    "##### Colunas Categóricas"
   ]
  },
  {
   "cell_type": "code",
   "execution_count": 21,
   "id": "5761c0fe-988c-488e-87b9-15fbef21dcda",
   "metadata": {},
   "outputs": [],
   "source": [
    "categorical_columns <- c(\"gender\", \"ssc_b\", \"hsc_b\", \"hsc_s\", \"degree_t\", \"workex\", \"specialisation\", \"status\")"
   ]
  },
  {
   "cell_type": "markdown",
   "id": "6089d692-2e29-48e7-affe-c0d41b10f29d",
   "metadata": {},
   "source": [
    "##### Aplicar LabelEncoder em cada coluna"
   ]
  },
  {
   "cell_type": "code",
   "execution_count": 25,
   "id": "fa206f99-c69f-479e-ad95-3a690cb02b70",
   "metadata": {},
   "outputs": [],
   "source": [
    "for (col in categorical_columns) {\n",
    "  df_no_salary[[col]] <- le$fit_transform(df_no_salary[[col]])\n",
    "}"
   ]
  },
  {
   "cell_type": "code",
   "execution_count": 26,
   "id": "e6382245-2688-4d7f-ab62-b3fda7a395e3",
   "metadata": {},
   "outputs": [
    {
     "data": {
      "text/html": [
       "<table class=\"dataframe\">\n",
       "<caption>A data.frame: 6 × 14</caption>\n",
       "<thead>\n",
       "\t<tr><th></th><th scope=col>sl_no</th><th scope=col>gender</th><th scope=col>ssc_p</th><th scope=col>ssc_b</th><th scope=col>hsc_p</th><th scope=col>hsc_b</th><th scope=col>hsc_s</th><th scope=col>degree_p</th><th scope=col>degree_t</th><th scope=col>workex</th><th scope=col>etest_p</th><th scope=col>specialisation</th><th scope=col>mba_p</th><th scope=col>status</th></tr>\n",
       "\t<tr><th></th><th scope=col>&lt;dbl&gt;</th><th scope=col>&lt;dbl[1d]&gt;</th><th scope=col>&lt;dbl&gt;</th><th scope=col>&lt;dbl[1d]&gt;</th><th scope=col>&lt;dbl&gt;</th><th scope=col>&lt;dbl[1d]&gt;</th><th scope=col>&lt;dbl[1d]&gt;</th><th scope=col>&lt;dbl&gt;</th><th scope=col>&lt;dbl[1d]&gt;</th><th scope=col>&lt;dbl[1d]&gt;</th><th scope=col>&lt;dbl&gt;</th><th scope=col>&lt;dbl[1d]&gt;</th><th scope=col>&lt;dbl&gt;</th><th scope=col>&lt;dbl[1d]&gt;</th></tr>\n",
       "</thead>\n",
       "<tbody>\n",
       "\t<tr><th scope=row>1</th><td>1</td><td>1</td><td>67.00</td><td>1</td><td>91.00</td><td>1</td><td>1</td><td>58.00</td><td>2</td><td>0</td><td>55.0</td><td>1</td><td>58.80</td><td>1</td></tr>\n",
       "\t<tr><th scope=row>2</th><td>2</td><td>1</td><td>79.33</td><td>0</td><td>78.33</td><td>1</td><td>2</td><td>77.48</td><td>2</td><td>1</td><td>86.5</td><td>0</td><td>66.28</td><td>1</td></tr>\n",
       "\t<tr><th scope=row>3</th><td>3</td><td>1</td><td>65.00</td><td>0</td><td>68.00</td><td>0</td><td>0</td><td>64.00</td><td>0</td><td>0</td><td>75.0</td><td>0</td><td>57.80</td><td>1</td></tr>\n",
       "\t<tr><th scope=row>4</th><td>4</td><td>1</td><td>56.00</td><td>0</td><td>52.00</td><td>0</td><td>2</td><td>52.00</td><td>2</td><td>0</td><td>66.0</td><td>1</td><td>59.43</td><td>0</td></tr>\n",
       "\t<tr><th scope=row>5</th><td>5</td><td>1</td><td>85.80</td><td>0</td><td>73.60</td><td>0</td><td>1</td><td>73.30</td><td>0</td><td>0</td><td>96.8</td><td>0</td><td>55.50</td><td>1</td></tr>\n",
       "\t<tr><th scope=row>6</th><td>6</td><td>1</td><td>55.00</td><td>1</td><td>49.80</td><td>1</td><td>2</td><td>67.25</td><td>2</td><td>1</td><td>55.0</td><td>0</td><td>51.58</td><td>0</td></tr>\n",
       "</tbody>\n",
       "</table>\n"
      ],
      "text/latex": [
       "A data.frame: 6 × 14\n",
       "\\begin{tabular}{r|llllllllllllll}\n",
       "  & sl\\_no & gender & ssc\\_p & ssc\\_b & hsc\\_p & hsc\\_b & hsc\\_s & degree\\_p & degree\\_t & workex & etest\\_p & specialisation & mba\\_p & status\\\\\n",
       "  & <dbl> & <dbl{[}1d{]}> & <dbl> & <dbl{[}1d{]}> & <dbl> & <dbl{[}1d{]}> & <dbl{[}1d{]}> & <dbl> & <dbl{[}1d{]}> & <dbl{[}1d{]}> & <dbl> & <dbl{[}1d{]}> & <dbl> & <dbl{[}1d{]}>\\\\\n",
       "\\hline\n",
       "\t1 & 1 & 1 & 67.00 & 1 & 91.00 & 1 & 1 & 58.00 & 2 & 0 & 55.0 & 1 & 58.80 & 1\\\\\n",
       "\t2 & 2 & 1 & 79.33 & 0 & 78.33 & 1 & 2 & 77.48 & 2 & 1 & 86.5 & 0 & 66.28 & 1\\\\\n",
       "\t3 & 3 & 1 & 65.00 & 0 & 68.00 & 0 & 0 & 64.00 & 0 & 0 & 75.0 & 0 & 57.80 & 1\\\\\n",
       "\t4 & 4 & 1 & 56.00 & 0 & 52.00 & 0 & 2 & 52.00 & 2 & 0 & 66.0 & 1 & 59.43 & 0\\\\\n",
       "\t5 & 5 & 1 & 85.80 & 0 & 73.60 & 0 & 1 & 73.30 & 0 & 0 & 96.8 & 0 & 55.50 & 1\\\\\n",
       "\t6 & 6 & 1 & 55.00 & 1 & 49.80 & 1 & 2 & 67.25 & 2 & 1 & 55.0 & 0 & 51.58 & 0\\\\\n",
       "\\end{tabular}\n"
      ],
      "text/markdown": [
       "\n",
       "A data.frame: 6 × 14\n",
       "\n",
       "| <!--/--> | sl_no &lt;dbl&gt; | gender &lt;dbl[1d]&gt; | ssc_p &lt;dbl&gt; | ssc_b &lt;dbl[1d]&gt; | hsc_p &lt;dbl&gt; | hsc_b &lt;dbl[1d]&gt; | hsc_s &lt;dbl[1d]&gt; | degree_p &lt;dbl&gt; | degree_t &lt;dbl[1d]&gt; | workex &lt;dbl[1d]&gt; | etest_p &lt;dbl&gt; | specialisation &lt;dbl[1d]&gt; | mba_p &lt;dbl&gt; | status &lt;dbl[1d]&gt; |\n",
       "|---|---|---|---|---|---|---|---|---|---|---|---|---|---|---|\n",
       "| 1 | 1 | 1 | 67.00 | 1 | 91.00 | 1 | 1 | 58.00 | 2 | 0 | 55.0 | 1 | 58.80 | 1 |\n",
       "| 2 | 2 | 1 | 79.33 | 0 | 78.33 | 1 | 2 | 77.48 | 2 | 1 | 86.5 | 0 | 66.28 | 1 |\n",
       "| 3 | 3 | 1 | 65.00 | 0 | 68.00 | 0 | 0 | 64.00 | 0 | 0 | 75.0 | 0 | 57.80 | 1 |\n",
       "| 4 | 4 | 1 | 56.00 | 0 | 52.00 | 0 | 2 | 52.00 | 2 | 0 | 66.0 | 1 | 59.43 | 0 |\n",
       "| 5 | 5 | 1 | 85.80 | 0 | 73.60 | 0 | 1 | 73.30 | 0 | 0 | 96.8 | 0 | 55.50 | 1 |\n",
       "| 6 | 6 | 1 | 55.00 | 1 | 49.80 | 1 | 2 | 67.25 | 2 | 1 | 55.0 | 0 | 51.58 | 0 |\n",
       "\n"
      ],
      "text/plain": [
       "  sl_no gender ssc_p ssc_b hsc_p hsc_b hsc_s degree_p degree_t workex etest_p\n",
       "1 1     1      67.00 1     91.00 1     1     58.00    2        0      55.0   \n",
       "2 2     1      79.33 0     78.33 1     2     77.48    2        1      86.5   \n",
       "3 3     1      65.00 0     68.00 0     0     64.00    0        0      75.0   \n",
       "4 4     1      56.00 0     52.00 0     2     52.00    2        0      66.0   \n",
       "5 5     1      85.80 0     73.60 0     1     73.30    0        0      96.8   \n",
       "6 6     1      55.00 1     49.80 1     2     67.25    2        1      55.0   \n",
       "  specialisation mba_p status\n",
       "1 1              58.80 1     \n",
       "2 0              66.28 1     \n",
       "3 0              57.80 1     \n",
       "4 1              59.43 0     \n",
       "5 0              55.50 1     \n",
       "6 0              51.58 0     "
      ]
     },
     "metadata": {},
     "output_type": "display_data"
    }
   ],
   "source": [
    "head(df_no_salary)"
   ]
  },
  {
   "cell_type": "markdown",
   "id": "a76bc2f6-d9d1-4cba-b648-1461ded4efcd",
   "metadata": {
    "jp-MarkdownHeadingCollapsed": true
   },
   "source": [
    "##### Selecione um dos modelos de classificação aprendidos até agora na disciplina (Naive Bayes ou Regressão Logística) e treine-o com df_no_salary. Seu objetivo é prever a recolocação (status = [Placed/Recolocado, Not Placed/Não Recolocado]) de cada indivíduo"
   ]
  },
  {
   "cell_type": "code",
   "execution_count": null,
   "id": "2e7317a9-d433-4729-94a5-9baedc1176ba",
   "metadata": {},
   "outputs": [],
   "source": []
  }
 ],
 "metadata": {
  "kernelspec": {
   "display_name": "R",
   "language": "R",
   "name": "ir"
  },
  "language_info": {
   "codemirror_mode": "r",
   "file_extension": ".r",
   "mimetype": "text/x-r-source",
   "name": "R",
   "pygments_lexer": "r",
   "version": "4.5.0"
  }
 },
 "nbformat": 4,
 "nbformat_minor": 5
}
