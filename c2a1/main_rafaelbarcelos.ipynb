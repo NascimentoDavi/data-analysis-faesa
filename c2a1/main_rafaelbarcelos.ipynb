{
 "cells": [
  {
   "cell_type": "markdown",
   "id": "9350ae45-66c2-480f-9754-ecd16952a4fd",
   "metadata": {},
   "source": [
    "# Reticulate"
   ]
  },
  {
   "cell_type": "markdown",
   "id": "ede5ef6f-1315-4f65-91e7-032179bbbcb8",
   "metadata": {},
   "source": [
    "### Pacote que permite a integração do R e do Python no mesmo ambiente, oference uma interface entre os dois."
   ]
  },
  {
   "cell_type": "code",
   "execution_count": 2,
   "id": "95ebe22c-e03a-4138-86ca-67794355bd75",
   "metadata": {},
   "outputs": [],
   "source": [
    "# Instala o Reticulate em uma localização específica\n",
    "# Carrega o pacote para o ambiente, considerando que ele já foi instalado acima\n",
    "library(reticulate)"
   ]
  },
  {
   "cell_type": "code",
   "execution_count": 3,
   "id": "f6d60126-4f2b-4463-ab72-0f03a4ff82b2",
   "metadata": {},
   "outputs": [
    {
     "data": {
      "text/plain": [
       "python:         C:/Users/Davi/AppData/Local/R/cache/R/reticulate/uv/cache/archive-v0/XosmpJ2C8uHAx3QJcV7GM/Scripts/python.exe\n",
       "libpython:      C:/Users/Davi/AppData/Local/R/cache/R/reticulate/uv/python/cpython-3.11.12-windows-x86_64-none/python311.dll\n",
       "pythonhome:     C:/Users/Davi/AppData/Local/R/cache/R/reticulate/uv/cache/archive-v0/XosmpJ2C8uHAx3QJcV7GM\n",
       "virtualenv:     C:/Users/Davi/AppData/Local/R/cache/R/reticulate/uv/cache/archive-v0/XosmpJ2C8uHAx3QJcV7GM/Scripts/activate_this.py\n",
       "version:        3.11.12 (main, Apr  9 2025, 04:03:34) [MSC v.1943 64 bit (AMD64)]\n",
       "Architecture:   64bit\n",
       "numpy:          C:/Users/Davi/AppData/Local/R/cache/R/reticulate/uv/cache/archive-v0/XosmpJ2C8uHAx3QJcV7GM/Lib/site-packages/numpy\n",
       "numpy_version:  2.2.5\n",
       "\n",
       "NOTE: Python version was forced by py_require()"
      ]
     },
     "metadata": {},
     "output_type": "display_data"
    }
   ],
   "source": [
    "# Exibe informações sobre a configuração atual do Python no ambiente R\n",
    "py_config()"
   ]
  },
  {
   "cell_type": "code",
   "execution_count": 4,
   "id": "79df984d-3474-45eb-960f-8e2a7c2e3ad7",
   "metadata": {},
   "outputs": [],
   "source": [
    "# garante que o pacote pandas esteja disponível no ambiente Python que está sendo utilizado pelo reticulate\n",
    "py_require(\"pandas\")"
   ]
  },
  {
   "cell_type": "code",
   "execution_count": 5,
   "id": "9b548fb7-6645-44f1-a58a-a4350953dcd7",
   "metadata": {},
   "outputs": [],
   "source": [
    "pd <- import(\"pandas\")"
   ]
  },
  {
   "cell_type": "code",
   "execution_count": 6,
   "id": "6220c74b-78c0-4174-b4e2-eb3283b4b866",
   "metadata": {},
   "outputs": [],
   "source": [
    "df_original <- pd$read_csv(\"Placement_Data_Full_Class.csv\")"
   ]
  },
  {
   "cell_type": "code",
   "execution_count": 7,
   "id": "87448eaa-d620-4910-9ad9-e4d98100347d",
   "metadata": {},
   "outputs": [],
   "source": [
    "# Criar Cópia\n",
    "df_no_salary <- df_original"
   ]
  },
  {
   "cell_type": "code",
   "execution_count": 8,
   "id": "f29e64b6-60a3-4886-8c26-6a6de8a8e7c9",
   "metadata": {},
   "outputs": [
    {
     "name": "stdout",
     "output_type": "stream",
     "text": [
      "[1] \"A coluna salary existe.\"\n",
      "[1] \"A coluna salary foi removida.\"\n"
     ]
    }
   ],
   "source": [
    "# Remoção da ColunaSalary no dataframe\n",
    "# 1- Verificar se coluna existe no dataframe\n",
    "\n",
    "# Definindo o nome da coluna em uma variável\n",
    "coluna <- \"salary\"\n",
    "\n",
    "# Verificar se a coluna existe no DataFrame\n",
    "if (coluna %in% colnames(df_no_salary)) {\n",
    "    # Usando paste para concatenar e imprimir a mensagem\n",
    "    print(paste(\"A coluna\", coluna, \"existe.\"))\n",
    "    \n",
    "    # Remover a coluna do DataFrame\n",
    "    df_no_salary <- df_no_salary[, !colnames(df_no_salary) %in% coluna]\n",
    "    print(paste(\"A coluna\", coluna, \"foi removida.\"))\n",
    "} else {\n",
    "    # Usando paste para concatenar e imprimir a mensagem\n",
    "    print(paste(\"A coluna\", coluna, \"não existe.\"))\n",
    "}"
   ]
  },
  {
   "cell_type": "markdown",
   "id": "e6c10422-33d8-4e80-b0c4-037a4046725f",
   "metadata": {
    "jp-MarkdownHeadingCollapsed": true
   },
   "source": [
    "### Análise Exploratória de Dados (EDA)"
   ]
  },
  {
   "cell_type": "markdown",
   "id": "379c9018-d959-403d-8662-ee542a006c47",
   "metadata": {},
   "source": [
    "##### Converter Dataframe de Python para R"
   ]
  },
  {
   "cell_type": "code",
   "execution_count": 9,
   "id": "8d1c8828-ce49-4849-b9a3-ec5c13d0fcc9",
   "metadata": {},
   "outputs": [],
   "source": [
    "df_original_r <- py_to_r(df_original)"
   ]
  },
  {
   "cell_type": "markdown",
   "id": "060bbee4-3782-477f-9905-d997c8b1a514",
   "metadata": {},
   "source": [
    "##### Mostra as 6 primeiras linhas (Primeiras Linhas)"
   ]
  },
  {
   "cell_type": "code",
   "execution_count": 10,
   "id": "bd26429b-9fea-42db-86fa-3b3e8a8f265a",
   "metadata": {},
   "outputs": [
    {
     "data": {
      "text/html": [
       "<table class=\"dataframe\">\n",
       "<caption>A data.frame: 6 × 15</caption>\n",
       "<thead>\n",
       "\t<tr><th></th><th scope=col>sl_no</th><th scope=col>gender</th><th scope=col>ssc_p</th><th scope=col>ssc_b</th><th scope=col>hsc_p</th><th scope=col>hsc_b</th><th scope=col>hsc_s</th><th scope=col>degree_p</th><th scope=col>degree_t</th><th scope=col>workex</th><th scope=col>etest_p</th><th scope=col>specialisation</th><th scope=col>mba_p</th><th scope=col>status</th><th scope=col>salary</th></tr>\n",
       "\t<tr><th></th><th scope=col>&lt;dbl&gt;</th><th scope=col>&lt;chr&gt;</th><th scope=col>&lt;dbl&gt;</th><th scope=col>&lt;chr&gt;</th><th scope=col>&lt;dbl&gt;</th><th scope=col>&lt;chr&gt;</th><th scope=col>&lt;chr&gt;</th><th scope=col>&lt;dbl&gt;</th><th scope=col>&lt;chr&gt;</th><th scope=col>&lt;chr&gt;</th><th scope=col>&lt;dbl&gt;</th><th scope=col>&lt;chr&gt;</th><th scope=col>&lt;dbl&gt;</th><th scope=col>&lt;chr&gt;</th><th scope=col>&lt;dbl&gt;</th></tr>\n",
       "</thead>\n",
       "<tbody>\n",
       "\t<tr><th scope=row>1</th><td>1</td><td>M</td><td>67.00</td><td>Others </td><td>91.00</td><td>Others </td><td>Commerce</td><td>58.00</td><td>Sci&amp;Tech </td><td>No </td><td>55.0</td><td>Mkt&amp;HR </td><td>58.80</td><td><span style=white-space:pre-wrap>Placed    </span></td><td>270000</td></tr>\n",
       "\t<tr><th scope=row>2</th><td>2</td><td>M</td><td>79.33</td><td>Central</td><td>78.33</td><td>Others </td><td>Science </td><td>77.48</td><td>Sci&amp;Tech </td><td>Yes</td><td>86.5</td><td>Mkt&amp;Fin</td><td>66.28</td><td><span style=white-space:pre-wrap>Placed    </span></td><td>200000</td></tr>\n",
       "\t<tr><th scope=row>3</th><td>3</td><td>M</td><td>65.00</td><td>Central</td><td>68.00</td><td>Central</td><td><span style=white-space:pre-wrap>Arts    </span></td><td>64.00</td><td>Comm&amp;Mgmt</td><td>No </td><td>75.0</td><td>Mkt&amp;Fin</td><td>57.80</td><td><span style=white-space:pre-wrap>Placed    </span></td><td>250000</td></tr>\n",
       "\t<tr><th scope=row>4</th><td>4</td><td>M</td><td>56.00</td><td>Central</td><td>52.00</td><td>Central</td><td>Science </td><td>52.00</td><td>Sci&amp;Tech </td><td>No </td><td>66.0</td><td>Mkt&amp;HR </td><td>59.43</td><td>Not Placed</td><td><span style=white-space:pre-wrap>   NaN</span></td></tr>\n",
       "\t<tr><th scope=row>5</th><td>5</td><td>M</td><td>85.80</td><td>Central</td><td>73.60</td><td>Central</td><td>Commerce</td><td>73.30</td><td>Comm&amp;Mgmt</td><td>No </td><td>96.8</td><td>Mkt&amp;Fin</td><td>55.50</td><td><span style=white-space:pre-wrap>Placed    </span></td><td>425000</td></tr>\n",
       "\t<tr><th scope=row>6</th><td>6</td><td>M</td><td>55.00</td><td>Others </td><td>49.80</td><td>Others </td><td>Science </td><td>67.25</td><td>Sci&amp;Tech </td><td>Yes</td><td>55.0</td><td>Mkt&amp;Fin</td><td>51.58</td><td>Not Placed</td><td><span style=white-space:pre-wrap>   NaN</span></td></tr>\n",
       "</tbody>\n",
       "</table>\n"
      ],
      "text/latex": [
       "A data.frame: 6 × 15\n",
       "\\begin{tabular}{r|lllllllllllllll}\n",
       "  & sl\\_no & gender & ssc\\_p & ssc\\_b & hsc\\_p & hsc\\_b & hsc\\_s & degree\\_p & degree\\_t & workex & etest\\_p & specialisation & mba\\_p & status & salary\\\\\n",
       "  & <dbl> & <chr> & <dbl> & <chr> & <dbl> & <chr> & <chr> & <dbl> & <chr> & <chr> & <dbl> & <chr> & <dbl> & <chr> & <dbl>\\\\\n",
       "\\hline\n",
       "\t1 & 1 & M & 67.00 & Others  & 91.00 & Others  & Commerce & 58.00 & Sci\\&Tech  & No  & 55.0 & Mkt\\&HR  & 58.80 & Placed     & 270000\\\\\n",
       "\t2 & 2 & M & 79.33 & Central & 78.33 & Others  & Science  & 77.48 & Sci\\&Tech  & Yes & 86.5 & Mkt\\&Fin & 66.28 & Placed     & 200000\\\\\n",
       "\t3 & 3 & M & 65.00 & Central & 68.00 & Central & Arts     & 64.00 & Comm\\&Mgmt & No  & 75.0 & Mkt\\&Fin & 57.80 & Placed     & 250000\\\\\n",
       "\t4 & 4 & M & 56.00 & Central & 52.00 & Central & Science  & 52.00 & Sci\\&Tech  & No  & 66.0 & Mkt\\&HR  & 59.43 & Not Placed &    NaN\\\\\n",
       "\t5 & 5 & M & 85.80 & Central & 73.60 & Central & Commerce & 73.30 & Comm\\&Mgmt & No  & 96.8 & Mkt\\&Fin & 55.50 & Placed     & 425000\\\\\n",
       "\t6 & 6 & M & 55.00 & Others  & 49.80 & Others  & Science  & 67.25 & Sci\\&Tech  & Yes & 55.0 & Mkt\\&Fin & 51.58 & Not Placed &    NaN\\\\\n",
       "\\end{tabular}\n"
      ],
      "text/markdown": [
       "\n",
       "A data.frame: 6 × 15\n",
       "\n",
       "| <!--/--> | sl_no &lt;dbl&gt; | gender &lt;chr&gt; | ssc_p &lt;dbl&gt; | ssc_b &lt;chr&gt; | hsc_p &lt;dbl&gt; | hsc_b &lt;chr&gt; | hsc_s &lt;chr&gt; | degree_p &lt;dbl&gt; | degree_t &lt;chr&gt; | workex &lt;chr&gt; | etest_p &lt;dbl&gt; | specialisation &lt;chr&gt; | mba_p &lt;dbl&gt; | status &lt;chr&gt; | salary &lt;dbl&gt; |\n",
       "|---|---|---|---|---|---|---|---|---|---|---|---|---|---|---|---|\n",
       "| 1 | 1 | M | 67.00 | Others  | 91.00 | Others  | Commerce | 58.00 | Sci&amp;Tech  | No  | 55.0 | Mkt&amp;HR  | 58.80 | Placed     | 270000 |\n",
       "| 2 | 2 | M | 79.33 | Central | 78.33 | Others  | Science  | 77.48 | Sci&amp;Tech  | Yes | 86.5 | Mkt&amp;Fin | 66.28 | Placed     | 200000 |\n",
       "| 3 | 3 | M | 65.00 | Central | 68.00 | Central | Arts     | 64.00 | Comm&amp;Mgmt | No  | 75.0 | Mkt&amp;Fin | 57.80 | Placed     | 250000 |\n",
       "| 4 | 4 | M | 56.00 | Central | 52.00 | Central | Science  | 52.00 | Sci&amp;Tech  | No  | 66.0 | Mkt&amp;HR  | 59.43 | Not Placed |    NaN |\n",
       "| 5 | 5 | M | 85.80 | Central | 73.60 | Central | Commerce | 73.30 | Comm&amp;Mgmt | No  | 96.8 | Mkt&amp;Fin | 55.50 | Placed     | 425000 |\n",
       "| 6 | 6 | M | 55.00 | Others  | 49.80 | Others  | Science  | 67.25 | Sci&amp;Tech  | Yes | 55.0 | Mkt&amp;Fin | 51.58 | Not Placed |    NaN |\n",
       "\n"
      ],
      "text/plain": [
       "  sl_no gender ssc_p ssc_b   hsc_p hsc_b   hsc_s    degree_p degree_t  workex\n",
       "1 1     M      67.00 Others  91.00 Others  Commerce 58.00    Sci&Tech  No    \n",
       "2 2     M      79.33 Central 78.33 Others  Science  77.48    Sci&Tech  Yes   \n",
       "3 3     M      65.00 Central 68.00 Central Arts     64.00    Comm&Mgmt No    \n",
       "4 4     M      56.00 Central 52.00 Central Science  52.00    Sci&Tech  No    \n",
       "5 5     M      85.80 Central 73.60 Central Commerce 73.30    Comm&Mgmt No    \n",
       "6 6     M      55.00 Others  49.80 Others  Science  67.25    Sci&Tech  Yes   \n",
       "  etest_p specialisation mba_p status     salary\n",
       "1 55.0    Mkt&HR         58.80 Placed     270000\n",
       "2 86.5    Mkt&Fin        66.28 Placed     200000\n",
       "3 75.0    Mkt&Fin        57.80 Placed     250000\n",
       "4 66.0    Mkt&HR         59.43 Not Placed    NaN\n",
       "5 96.8    Mkt&Fin        55.50 Placed     425000\n",
       "6 55.0    Mkt&Fin        51.58 Not Placed    NaN"
      ]
     },
     "metadata": {},
     "output_type": "display_data"
    }
   ],
   "source": [
    "head(df_original_r)"
   ]
  },
  {
   "cell_type": "markdown",
   "id": "3165328f-5dab-4bab-83d3-ef64c81cd94b",
   "metadata": {},
   "source": [
    "##### Ver Estrtutura do Dataframe | Mostra os tipos de variáveis, nomes das colunas e alguns valores iniciais.\n"
   ]
  },
  {
   "cell_type": "markdown",
   "id": "2ea8da9d-ac38-47fb-919a-c58e5042fcdb",
   "metadata": {
    "jp-MarkdownHeadingCollapsed": true
   },
   "source": [
    "str(df_original_r)"
   ]
  },
  {
   "cell_type": "markdown",
   "id": "38c268aa-0cc4-4cba-bdee-a3e3c9d21743",
   "metadata": {},
   "source": [
    "##### Sumário Estatístico"
   ]
  },
  {
   "cell_type": "code",
   "execution_count": 11,
   "id": "fbd6df85-675e-42de-b195-40f4c2967d69",
   "metadata": {},
   "outputs": [
    {
     "data": {
      "text/plain": [
       "     sl_no          gender              ssc_p          ssc_b          \n",
       " Min.   :  1.0   Length:215         Min.   :40.89   Length:215        \n",
       " 1st Qu.: 54.5   Class :character   1st Qu.:60.60   Class :character  \n",
       " Median :108.0   Mode  :character   Median :67.00   Mode  :character  \n",
       " Mean   :108.0                      Mean   :67.30                     \n",
       " 3rd Qu.:161.5                      3rd Qu.:75.70                     \n",
       " Max.   :215.0                      Max.   :89.40                     \n",
       "                                                                      \n",
       "     hsc_p          hsc_b              hsc_s              degree_p    \n",
       " Min.   :37.00   Length:215         Length:215         Min.   :50.00  \n",
       " 1st Qu.:60.90   Class :character   Class :character   1st Qu.:61.00  \n",
       " Median :65.00   Mode  :character   Mode  :character   Median :66.00  \n",
       " Mean   :66.33                                         Mean   :66.37  \n",
       " 3rd Qu.:73.00                                         3rd Qu.:72.00  \n",
       " Max.   :97.70                                         Max.   :91.00  \n",
       "                                                                      \n",
       "   degree_t            workex             etest_p     specialisation    \n",
       " Length:215         Length:215         Min.   :50.0   Length:215        \n",
       " Class :character   Class :character   1st Qu.:60.0   Class :character  \n",
       " Mode  :character   Mode  :character   Median :71.0   Mode  :character  \n",
       "                                       Mean   :72.1                     \n",
       "                                       3rd Qu.:83.5                     \n",
       "                                       Max.   :98.0                     \n",
       "                                                                        \n",
       "     mba_p          status              salary      \n",
       " Min.   :51.21   Length:215         Min.   :200000  \n",
       " 1st Qu.:57.95   Class :character   1st Qu.:240000  \n",
       " Median :62.00   Mode  :character   Median :265000  \n",
       " Mean   :62.28                      Mean   :288655  \n",
       " 3rd Qu.:66.25                      3rd Qu.:300000  \n",
       " Max.   :77.89                      Max.   :940000  \n",
       "                                    NA's   :67      "
      ]
     },
     "metadata": {},
     "output_type": "display_data"
    }
   ],
   "source": [
    "summary(df_original_r)"
   ]
  },
  {
   "cell_type": "markdown",
   "id": "144716aa-55b0-436d-8bfe-45bb546e62a4",
   "metadata": {},
   "source": [
    "##### Verificar valores ausentes (NA) | Conta quantos NAs tem em cada coluna"
   ]
  },
  {
   "cell_type": "code",
   "execution_count": 12,
   "id": "c99c1aed-4461-4efa-bf3d-b4d8bae87d75",
   "metadata": {},
   "outputs": [
    {
     "data": {
      "text/html": [
       "<style>\n",
       ".dl-inline {width: auto; margin:0; padding: 0}\n",
       ".dl-inline>dt, .dl-inline>dd {float: none; width: auto; display: inline-block}\n",
       ".dl-inline>dt::after {content: \":\\0020\"; padding-right: .5ex}\n",
       ".dl-inline>dt:not(:first-of-type) {padding-left: .5ex}\n",
       "</style><dl class=dl-inline><dt>sl_no</dt><dd>0</dd><dt>gender</dt><dd>0</dd><dt>ssc_p</dt><dd>0</dd><dt>ssc_b</dt><dd>0</dd><dt>hsc_p</dt><dd>0</dd><dt>hsc_b</dt><dd>0</dd><dt>hsc_s</dt><dd>0</dd><dt>degree_p</dt><dd>0</dd><dt>degree_t</dt><dd>0</dd><dt>workex</dt><dd>0</dd><dt>etest_p</dt><dd>0</dd><dt>specialisation</dt><dd>0</dd><dt>mba_p</dt><dd>0</dd><dt>status</dt><dd>0</dd><dt>salary</dt><dd>67</dd></dl>\n"
      ],
      "text/latex": [
       "\\begin{description*}\n",
       "\\item[sl\\textbackslash{}\\_no] 0\n",
       "\\item[gender] 0\n",
       "\\item[ssc\\textbackslash{}\\_p] 0\n",
       "\\item[ssc\\textbackslash{}\\_b] 0\n",
       "\\item[hsc\\textbackslash{}\\_p] 0\n",
       "\\item[hsc\\textbackslash{}\\_b] 0\n",
       "\\item[hsc\\textbackslash{}\\_s] 0\n",
       "\\item[degree\\textbackslash{}\\_p] 0\n",
       "\\item[degree\\textbackslash{}\\_t] 0\n",
       "\\item[workex] 0\n",
       "\\item[etest\\textbackslash{}\\_p] 0\n",
       "\\item[specialisation] 0\n",
       "\\item[mba\\textbackslash{}\\_p] 0\n",
       "\\item[status] 0\n",
       "\\item[salary] 67\n",
       "\\end{description*}\n"
      ],
      "text/markdown": [
       "sl_no\n",
       ":   0gender\n",
       ":   0ssc_p\n",
       ":   0ssc_b\n",
       ":   0hsc_p\n",
       ":   0hsc_b\n",
       ":   0hsc_s\n",
       ":   0degree_p\n",
       ":   0degree_t\n",
       ":   0workex\n",
       ":   0etest_p\n",
       ":   0specialisation\n",
       ":   0mba_p\n",
       ":   0status\n",
       ":   0salary\n",
       ":   67\n",
       "\n"
      ],
      "text/plain": [
       "         sl_no         gender          ssc_p          ssc_b          hsc_p \n",
       "             0              0              0              0              0 \n",
       "         hsc_b          hsc_s       degree_p       degree_t         workex \n",
       "             0              0              0              0              0 \n",
       "       etest_p specialisation          mba_p         status         salary \n",
       "             0              0              0              0             67 "
      ]
     },
     "metadata": {},
     "output_type": "display_data"
    }
   ],
   "source": [
    "colSums(is.na(df_original_r))"
   ]
  },
  {
   "cell_type": "markdown",
   "id": "aa1e64fe-8284-4b4b-86b3-89c71b91cea5",
   "metadata": {},
   "source": [
    "#####  Verificar classes de cada coluna"
   ]
  },
  {
   "cell_type": "code",
   "execution_count": 13,
   "id": "fffbd727-09c1-43eb-acc5-8730c3162bf6",
   "metadata": {},
   "outputs": [
    {
     "data": {
      "text/html": [
       "<style>\n",
       ".dl-inline {width: auto; margin:0; padding: 0}\n",
       ".dl-inline>dt, .dl-inline>dd {float: none; width: auto; display: inline-block}\n",
       ".dl-inline>dt::after {content: \":\\0020\"; padding-right: .5ex}\n",
       ".dl-inline>dt:not(:first-of-type) {padding-left: .5ex}\n",
       "</style><dl class=dl-inline><dt>sl_no</dt><dd>'numeric'</dd><dt>gender</dt><dd>'character'</dd><dt>ssc_p</dt><dd>'numeric'</dd><dt>ssc_b</dt><dd>'character'</dd><dt>hsc_p</dt><dd>'numeric'</dd><dt>hsc_b</dt><dd>'character'</dd><dt>hsc_s</dt><dd>'character'</dd><dt>degree_p</dt><dd>'numeric'</dd><dt>degree_t</dt><dd>'character'</dd><dt>workex</dt><dd>'character'</dd><dt>etest_p</dt><dd>'numeric'</dd><dt>specialisation</dt><dd>'character'</dd><dt>mba_p</dt><dd>'numeric'</dd><dt>status</dt><dd>'character'</dd><dt>salary</dt><dd>'numeric'</dd></dl>\n"
      ],
      "text/latex": [
       "\\begin{description*}\n",
       "\\item[sl\\textbackslash{}\\_no] 'numeric'\n",
       "\\item[gender] 'character'\n",
       "\\item[ssc\\textbackslash{}\\_p] 'numeric'\n",
       "\\item[ssc\\textbackslash{}\\_b] 'character'\n",
       "\\item[hsc\\textbackslash{}\\_p] 'numeric'\n",
       "\\item[hsc\\textbackslash{}\\_b] 'character'\n",
       "\\item[hsc\\textbackslash{}\\_s] 'character'\n",
       "\\item[degree\\textbackslash{}\\_p] 'numeric'\n",
       "\\item[degree\\textbackslash{}\\_t] 'character'\n",
       "\\item[workex] 'character'\n",
       "\\item[etest\\textbackslash{}\\_p] 'numeric'\n",
       "\\item[specialisation] 'character'\n",
       "\\item[mba\\textbackslash{}\\_p] 'numeric'\n",
       "\\item[status] 'character'\n",
       "\\item[salary] 'numeric'\n",
       "\\end{description*}\n"
      ],
      "text/markdown": [
       "sl_no\n",
       ":   'numeric'gender\n",
       ":   'character'ssc_p\n",
       ":   'numeric'ssc_b\n",
       ":   'character'hsc_p\n",
       ":   'numeric'hsc_b\n",
       ":   'character'hsc_s\n",
       ":   'character'degree_p\n",
       ":   'numeric'degree_t\n",
       ":   'character'workex\n",
       ":   'character'etest_p\n",
       ":   'numeric'specialisation\n",
       ":   'character'mba_p\n",
       ":   'numeric'status\n",
       ":   'character'salary\n",
       ":   'numeric'\n",
       "\n"
      ],
      "text/plain": [
       "         sl_no         gender          ssc_p          ssc_b          hsc_p \n",
       "     \"numeric\"    \"character\"      \"numeric\"    \"character\"      \"numeric\" \n",
       "         hsc_b          hsc_s       degree_p       degree_t         workex \n",
       "   \"character\"    \"character\"      \"numeric\"    \"character\"    \"character\" \n",
       "       etest_p specialisation          mba_p         status         salary \n",
       "     \"numeric\"    \"character\"      \"numeric\"    \"character\"      \"numeric\" "
      ]
     },
     "metadata": {},
     "output_type": "display_data"
    }
   ],
   "source": [
    "sapply(df_original_r, class)"
   ]
  },
  {
   "cell_type": "markdown",
   "id": "a3dfec80-bac3-4d22-80c6-000b6268b907",
   "metadata": {},
   "source": [
    "##### Contagem de valores únicos (para variáveis categóricas)"
   ]
  },
  {
   "cell_type": "code",
   "execution_count": 14,
   "id": "d9389531-4e05-41e8-b137-581bfac42043",
   "metadata": {},
   "outputs": [
    {
     "data": {
      "text/html": [
       "<dl>\n",
       "\t<dt>$sl_no</dt>\n",
       "\t\t<dd>215</dd>\n",
       "\t<dt>$gender</dt>\n",
       "\t\t<dd>2</dd>\n",
       "\t<dt>$ssc_p</dt>\n",
       "\t\t<dd>103</dd>\n",
       "\t<dt>$ssc_b</dt>\n",
       "\t\t<dd>2</dd>\n",
       "\t<dt>$hsc_p</dt>\n",
       "\t\t<dd>97</dd>\n",
       "\t<dt>$hsc_b</dt>\n",
       "\t\t<dd>2</dd>\n",
       "\t<dt>$hsc_s</dt>\n",
       "\t\t<dd>3</dd>\n",
       "\t<dt>$degree_p</dt>\n",
       "\t\t<dd>89</dd>\n",
       "\t<dt>$degree_t</dt>\n",
       "\t\t<dd>3</dd>\n",
       "\t<dt>$workex</dt>\n",
       "\t\t<dd>2</dd>\n",
       "\t<dt>$etest_p</dt>\n",
       "\t\t<dd>100</dd>\n",
       "\t<dt>$specialisation</dt>\n",
       "\t\t<dd>2</dd>\n",
       "\t<dt>$mba_p</dt>\n",
       "\t\t<dd>205</dd>\n",
       "\t<dt>$status</dt>\n",
       "\t\t<dd>2</dd>\n",
       "\t<dt>$salary</dt>\n",
       "\t\t<dd>46</dd>\n",
       "</dl>\n"
      ],
      "text/latex": [
       "\\begin{description}\n",
       "\\item[\\$sl\\_no] 215\n",
       "\\item[\\$gender] 2\n",
       "\\item[\\$ssc\\_p] 103\n",
       "\\item[\\$ssc\\_b] 2\n",
       "\\item[\\$hsc\\_p] 97\n",
       "\\item[\\$hsc\\_b] 2\n",
       "\\item[\\$hsc\\_s] 3\n",
       "\\item[\\$degree\\_p] 89\n",
       "\\item[\\$degree\\_t] 3\n",
       "\\item[\\$workex] 2\n",
       "\\item[\\$etest\\_p] 100\n",
       "\\item[\\$specialisation] 2\n",
       "\\item[\\$mba\\_p] 205\n",
       "\\item[\\$status] 2\n",
       "\\item[\\$salary] 46\n",
       "\\end{description}\n"
      ],
      "text/markdown": [
       "$sl_no\n",
       ":   215\n",
       "$gender\n",
       ":   2\n",
       "$ssc_p\n",
       ":   103\n",
       "$ssc_b\n",
       ":   2\n",
       "$hsc_p\n",
       ":   97\n",
       "$hsc_b\n",
       ":   2\n",
       "$hsc_s\n",
       ":   3\n",
       "$degree_p\n",
       ":   89\n",
       "$degree_t\n",
       ":   3\n",
       "$workex\n",
       ":   2\n",
       "$etest_p\n",
       ":   100\n",
       "$specialisation\n",
       ":   2\n",
       "$mba_p\n",
       ":   205\n",
       "$status\n",
       ":   2\n",
       "$salary\n",
       ":   46\n",
       "\n",
       "\n"
      ],
      "text/plain": [
       "$sl_no\n",
       "[1] 215\n",
       "\n",
       "$gender\n",
       "[1] 2\n",
       "\n",
       "$ssc_p\n",
       "[1] 103\n",
       "\n",
       "$ssc_b\n",
       "[1] 2\n",
       "\n",
       "$hsc_p\n",
       "[1] 97\n",
       "\n",
       "$hsc_b\n",
       "[1] 2\n",
       "\n",
       "$hsc_s\n",
       "[1] 3\n",
       "\n",
       "$degree_p\n",
       "[1] 89\n",
       "\n",
       "$degree_t\n",
       "[1] 3\n",
       "\n",
       "$workex\n",
       "[1] 2\n",
       "\n",
       "$etest_p\n",
       "[1] 100\n",
       "\n",
       "$specialisation\n",
       "[1] 2\n",
       "\n",
       "$mba_p\n",
       "[1] 205\n",
       "\n",
       "$status\n",
       "[1] 2\n",
       "\n",
       "$salary\n",
       "[1] 46\n"
      ]
     },
     "metadata": {},
     "output_type": "display_data"
    }
   ],
   "source": [
    "lapply(df_original_r, function(col) length(unique(col)))"
   ]
  },
  {
   "cell_type": "markdown",
   "id": "ca86a4cd-e9d7-43f5-b2b2-d81d845084cf",
   "metadata": {},
   "source": [
    "##### Visualizações rápidas com ggplot2 (se for usar gráficos)"
   ]
  },
  {
   "cell_type": "code",
   "execution_count": 15,
   "id": "d091cb2f-b8eb-4a56-9280-4a7af90339ad",
   "metadata": {},
   "outputs": [
    {
     "name": "stderr",
     "output_type": "stream",
     "text": [
      "Instalando pacote em 'C:/Users/Davi/AppData/Local/R/win-library/4.5'\n",
      "(como 'lib' não foi especificado)\n",
      "\n"
     ]
    },
    {
     "name": "stdout",
     "output_type": "stream",
     "text": [
      "pacote 'ggplot2' desempacotado com sucesso e somas MD5 verificadas\n",
      "\n",
      "Os pacotes binários baixados estão em\n",
      "\tC:\\Users\\Davi\\AppData\\Local\\Temp\\RtmpaI0UMu\\downloaded_packages\n"
     ]
    },
    {
     "data": {
      "image/png": "[encoded data removed]",
      "text/plain": [
       "plot without title"
      ]
     },
     "metadata": {
      "image/png": {
       "height": 420,
       "width": 420
      }
     },
     "output_type": "display_data"
    }
   ],
   "source": [
    "install.packages(\"ggplot2\")\n",
    "library(ggplot2)\n",
    "\n",
    "# Histograma de uma variável numérica (ex: 'a')\n",
    "ggplot(df_original_r, aes(x = gender)) +\n",
    "  geom_bar(fill = \"steelblue\") +\n",
    "  theme_minimal()\n",
    "\n",
    "# geom_bar() : Cria um gráfico de barras para variáveis categóricas no eixo X\n",
    "# theme_minimal : Aplica um tema visual limpo e simples ao gráfico."
   ]
  },
  {
   "cell_type": "markdown",
   "id": "a9183d34-ee95-481b-9b96-36e928bea5be",
   "metadata": {},
   "source": [
    "### Aplicar Label Encoder : Técnica de Codificação de Atributos Categóricos"
   ]
  },
  {
   "cell_type": "code",
   "execution_count": 4,
   "id": "bcf74d55-6ffe-41f6-8229-d70c8a03d638",
   "metadata": {},
   "outputs": [
    {
     "ename": "ERROR",
     "evalue": "Error in py_require(\"scikit-learn\"): could not find function \"py_require\"\n",
     "output_type": "error",
     "traceback": [
      "Error in py_require(\"scikit-learn\"): could not find function \"py_require\"\nTraceback:\n"
     ]
    }
   ],
   "source": [
    "py_require(\"scikit-learn\")"
   ]
  },
  {
   "cell_type": "code",
   "execution_count": 17,
   "id": "4ea36c8c-964a-49a5-b14c-db601d227f30",
   "metadata": {},
   "outputs": [],
   "source": [
    "sklearn <- import(\"sklearn.preprocessing\")"
   ]
  },
  {
   "cell_type": "code",
   "execution_count": 18,
   "id": "0f0a740d-3ec9-41d2-ae2c-e4e75cc4e582",
   "metadata": {},
   "outputs": [],
   "source": [
    "le <- sklearn$LabelEncoder()"
   ]
  },
  {
   "cell_type": "markdown",
   "id": "c1bf456a-1808-4b34-87e9-10a3625303de",
   "metadata": {
    "jp-MarkdownHeadingCollapsed": true
   },
   "source": [
    "##### Colunas Categóricas"
   ]
  },
  {
   "cell_type": "code",
   "execution_count": 19,
   "id": "5761c0fe-988c-488e-87b9-15fbef21dcda",
   "metadata": {},
   "outputs": [],
   "source": [
    "categorical_columns <- c(\"gender\", \"ssc_b\", \"hsc_b\", \"hsc_s\", \"degree_t\", \"workex\", \"specialisation\", \"status\")"
   ]
  },
  {
   "cell_type": "markdown",
   "id": "6089d692-2e29-48e7-affe-c0d41b10f29d",
   "metadata": {
    "jp-MarkdownHeadingCollapsed": true
   },
   "source": [
    "##### Aplicar LabelEncoder em cada coluna"
   ]
  },
  {
   "cell_type": "code",
   "execution_count": 1,
   "id": "fa206f99-c69f-479e-ad95-3a690cb02b70",
   "metadata": {},
   "outputs": [
    {
     "ename": "ERROR",
     "evalue": "Error: object 'categorical_columns' not found\n",
     "output_type": "error",
     "traceback": [
      "Error: object 'categorical_columns' not found\nTraceback:\n"
     ]
    }
   ],
   "source": [
    "for (col in categorical_columns) {\n",
    "  df_no_salary[[col]] <- le$fit_transform(df_no_salary[[col]])\n",
    "}"
   ]
  },
  {
   "cell_type": "code",
   "execution_count": 2,
   "id": "e6382245-2688-4d7f-ab62-b3fda7a395e3",
   "metadata": {},
   "outputs": [
    {
     "ename": "ERROR",
     "evalue": "Error: object 'df_no_salary' not found\n",
     "output_type": "error",
     "traceback": [
      "Error: object 'df_no_salary' not found\nTraceback:\n",
      "1. .handleSimpleError(function (cnd) \n . {\n .     watcher$capture_plot_and_output()\n .     cnd <- sanitize_call(cnd)\n .     watcher$push(cnd)\n .     switch(on_error, continue = invokeRestart(\"eval_continue\"), \n .         stop = invokeRestart(\"eval_stop\"), error = NULL)\n . }, \"object 'df_no_salary' not found\", base::quote(eval(expr, \n .     envir)))"
     ]
    }
   ],
   "source": [
    "head(df_no_salary)"
   ]
  },
  {
   "cell_type": "markdown",
   "id": "a76bc2f6-d9d1-4cba-b648-1461ded4efcd",
   "metadata": {},
   "source": [
    "### Selecione um dos modelos de classificação aprendidos até agora na disciplina (Naive Bayes ou Regressão Logística) e treine-o com df_no_salary. Seu objetivo é prever a recolocação (status = [Placed/Recolocado, Not Placed/Não Recolocado]) de cada indivíduo"
   ]
  },
  {
   "cell_type": "code",
   "execution_count": 3,
   "id": "2e7317a9-d433-4729-94a5-9baedc1176ba",
   "metadata": {},
   "outputs": [
    {
     "ename": "ERROR",
     "evalue": "Error: object 'df_no_salary' not found\n",
     "output_type": "error",
     "traceback": [
      "Error: object 'df_no_salary' not found\nTraceback:\n",
      "1. .handleSimpleError(function (cnd) \n . {\n .     watcher$capture_plot_and_output()\n .     cnd <- sanitize_call(cnd)\n .     watcher$push(cnd)\n .     switch(on_error, continue = invokeRestart(\"eval_continue\"), \n .         stop = invokeRestart(\"eval_stop\"), error = NULL)\n . }, \"object 'df_no_salary' not found\", base::quote(eval(expr, \n .     envir)))"
     ]
    }
   ],
   "source": [
    "df_no_salary_r <- as.data.frame(df_no_salary)"
   ]
  },
  {
   "cell_type": "code",
   "execution_count": 50,
   "id": "6e6632bd-54a0-4168-9218-4e65b56786b8",
   "metadata": {},
   "outputs": [],
   "source": [
    "# Dividindo em treino e teste (80% treino, 20% teste) de forma correta\n",
    "set.seed(42)\n",
    "index <- sample(1:nrow(df_no_salary_r), size = 0.8 * nrow(df_no_salary_r))\n",
    "train_data <- df_no_salary_r[index, ]\n",
    "test_data <- df_no_salary_r[-index, ]"
   ]
  },
  {
   "cell_type": "code",
   "execution_count": 51,
   "id": "797dbf9f-2764-4e45-bf50-d6cfd018b1cf",
   "metadata": {},
   "outputs": [],
   "source": [
    "# Treinando o modelo de Regressão Logística\n",
    "logistic_model <- glm(status ~ ., data = train_data, family = \"binomial\")"
   ]
  },
  {
   "cell_type": "code",
   "execution_count": 52,
   "id": "a4d4f731-8506-4ecb-8d27-9bdbba1e1fcf",
   "metadata": {},
   "outputs": [],
   "source": [
    "# Fazendo previsões\n",
    "test_data$pred_prob <- predict(logistic_model, newdata = test_data[, -which(names(test_data) == \"status\")], type = \"response\")\n",
    "test_data$pred_class <- ifelse(test_data$pred_prob > 0.5, 1, 0)"
   ]
  },
  {
   "cell_type": "code",
   "execution_count": 53,
   "id": "c0f1ecd3-bfde-4995-9323-7fc1b43a1864",
   "metadata": {},
   "outputs": [],
   "source": [
    "# Convertendo os rótulos em fator\n",
    "test_data$status <- as.factor(test_data$status)\n",
    "test_data$pred_class <- as.factor(test_data$pred_class)"
   ]
  },
  {
   "cell_type": "code",
   "execution_count": 54,
   "id": "9a52caf3-90b9-4446-a926-01e972b2c5e6",
   "metadata": {},
   "outputs": [
    {
     "name": "stdout",
     "output_type": "stream",
     "text": [
      "Confusion Matrix and Statistics\n",
      "\n",
      "          Reference\n",
      "Prediction  0  1\n",
      "         0 14  2\n",
      "         1  4 23\n",
      "                                         \n",
      "               Accuracy : 0.8605         \n",
      "                 95% CI : (0.7207, 0.947)\n",
      "    No Information Rate : 0.5814         \n",
      "    P-Value [Acc > NIR] : 8.002e-05      \n",
      "                                         \n",
      "                  Kappa : 0.7088         \n",
      "                                         \n",
      " Mcnemar's Test P-Value : 0.6831         \n",
      "                                         \n",
      "            Sensitivity : 0.7778         \n",
      "            Specificity : 0.9200         \n",
      "         Pos Pred Value : 0.8750         \n",
      "         Neg Pred Value : 0.8519         \n",
      "             Prevalence : 0.4186         \n",
      "         Detection Rate : 0.3256         \n",
      "   Detection Prevalence : 0.3721         \n",
      "      Balanced Accuracy : 0.8489         \n",
      "                                         \n",
      "       'Positive' Class : 0              \n",
      "                                         \n"
     ]
    }
   ],
   "source": [
    "# Avaliando o Modelo - Métricas\n",
    "library(caret)\n",
    "metrics <- confusionMatrix(test_data$pred_class, test_data$status)\n",
    "print(metrics)"
   ]
  },
  {
   "cell_type": "code",
   "execution_count": 55,
   "id": "a30bb3c0-426a-435e-bdf7-dafeda58bb41",
   "metadata": {},
   "outputs": [],
   "source": [
    "# Métricas Individuais\n",
    "precision <- metrics$byClass[\"Pos Pred Value\"]\n",
    "recall <- metrics$byClass[\"Sensitivity\"]\n",
    "f1_score <- 2 * ((precision * recall) / (precision + recall))\n",
    "accuracy <- metrics$overall[\"Accuracy\"]"
   ]
  },
  {
   "cell_type": "code",
   "execution_count": 56,
   "id": "c4f5e68b-6539-4f04-9bda-38c0edb08297",
   "metadata": {},
   "outputs": [
    {
     "name": "stdout",
     "output_type": "stream",
     "text": [
      "\n",
      "Precisão:  0.875\n",
      "Revocação:  0.7777778\n",
      "F1-Score:  0.8235294\n",
      "Acurácia:  0.8604651"
     ]
    }
   ],
   "source": [
    "cat(\"\\nPrecisão: \", precision)\n",
    "cat(\"\\nRevocação: \", recall)\n",
    "cat(\"\\nF1-Score: \", f1_score)\n",
    "cat(\"\\nAcurácia: \", accuracy)"
   ]
  },
  {
   "cell_type": "code",
   "execution_count": 57,
   "id": "b748a4ba-5df9-4618-adff-c21643e0a6bb",
   "metadata": {},
   "outputs": [],
   "source": [
    "# Curva ROC com ROCR\n",
    "library(ROCR)\n",
    "pred <- prediction(test_data$pred_prob, test_data$status)\n",
    "perf <- performance(pred, \"tpr\", \"fpr\")"
   ]
  },
  {
   "cell_type": "code",
   "execution_count": 58,
   "id": "7819582b-f458-45e4-bc95-3c1341520cb9",
   "metadata": {},
   "outputs": [
    {
     "data": {
      "image/png": "[encoded data removed]",
      "text/plain": [
       "Plot with title \"Curva ROC - Regressão Logística\""
      ]
     },
     "metadata": {
      "image/png": {
       "height": 420,
       "width": 420
      }
     },
     "output_type": "display_data"
    }
   ],
   "source": [
    "# Plotando a Curva ROC\n",
    "plot(perf, col = \"blue\", main = \"Curva ROC - Regressão Logística\")\n",
    "abline(a = 0, b = 1, lty = 2, col = \"gray\")"
   ]
  },
  {
   "cell_type": "markdown",
   "id": "6763eec6-3e5e-4737-92f3-a4c42dfe9bee",
   "metadata": {},
   "source": [
    "#### Comente as avaliações (Recall, Precision, ROC e AUC) obtidas pelo modelo de classificação utilizado. Informe se os resultados são bons ou ruins de acordo com as métricas."
   ]
  },
  {
   "cell_type": "markdown",
   "id": "6e029cde-6b11-4722-9e6c-ca00c24b9692",
   "metadata": {},
   "source": [
    "Com base nas métricas de desempenho do modelo de Regressão Logística obtidas:\n",
    "\n",
    "1. Precisão (Precision):\n",
    "A precisão indica a proporção de previsões positivas que estavam corretas.\n",
    "\n",
    "Uma alta precisão sugere que o modelo tem uma baixa taxa de falsos positivos.\n",
    "\n",
    "Se a precisão for alta (> 80%), isso indica que o modelo raramente classifica um indivíduo como \"Recolocado\" quando ele não foi realmente recolocado.\n",
    "\n",
    "2. Revocação (Recall):\n",
    "A revocação (ou sensibilidade) indica a proporção de verdadeiros positivos corretamente identificados.\n",
    "\n",
    "Uma alta revocação sugere que o modelo identifica bem os indivíduos recolocados.\n",
    "\n",
    "Se a revocação for alta (> 80%), o modelo é eficaz em capturar os recolocados, mesmo que isso aumente um pouco os falsos positivos.\n",
    "\n",
    "3. F1-Score:\n",
    "O F1-Score é a média harmônica entre precisão e revocação.\n",
    "\n",
    "Ele é útil quando há um equilíbrio entre a importância de evitar falsos positivos e falsos negativos.\n",
    "\n",
    "Um F1-Score acima de 80% é considerado bom, pois indica um equilíbrio adequado entre precisão e revocação.\n",
    "\n",
    "4. Acurácia (Accuracy):\n",
    "A acurácia indica a proporção de todas as previsões (positivas e negativas) que estavam corretas.\n",
    "\n",
    "Uma acurácia alta (> 85%) indica que o modelo está, de forma geral, fazendo previsões corretas.\n",
    "\n",
    "5. Curva ROC e AUC:\n",
    "A Curva ROC (Receiver Operating Characteristic) ilustra a relação entre a taxa de verdadeiros positivos (TPR) e a taxa de falsos positivos (FPR).\n",
    "\n",
    "A Área Sob a Curva (AUC) é uma métrica que varia de 0 a 1, onde:\n",
    "\n",
    "AUC > 0.9: Excelente\n",
    "\n",
    "0.8 <= AUC <= 0.9: Bom\n",
    "\n",
    "0.7 <= AUC <= 0.8: Razoável\n",
    "\n",
    "AUC < 0.7: Ruim\n",
    "\n",
    "Se a AUC for alta (> 0.85), o modelo é capaz de distinguir bem entre as classes \"Recolocado\" e \"Não Recolocado\".\n",
    "\n",
    "Resultado Geral:\n",
    "Se o modelo obteve valores altos para precisão, revocação, F1-Score e AUC (> 0.85), isso indica que ele tem um desempenho bom.\n",
    "\n",
    "Se algum desses valores for muito baixo (< 0.7), isso indica que o modelo tem espaço para melhorias."
   ]
  },
  {
   "cell_type": "code",
   "execution_count": null,
   "id": "a37a6506-8bf6-446a-a3f6-994932831861",
   "metadata": {},
   "outputs": [],
   "source": []
  }
 ],
 "metadata": {
  "kernelspec": {
   "display_name": "R",
   "language": "R",
   "name": "ir"
  },
  "language_info": {
   "codemirror_mode": "r",
   "file_extension": ".r",
   "mimetype": "text/x-r-source",
   "name": "R",
   "pygments_lexer": "r",
   "version": "4.5.0"
  }
 },
 "nbformat": 4,
 "nbformat_minor": 5
}
